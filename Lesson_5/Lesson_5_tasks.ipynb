{
 "cells": [
  {
   "cell_type": "markdown",
   "metadata": {
    "heading_collapsed": true
   },
   "source": [
    "### Import"
   ]
  },
  {
   "cell_type": "code",
   "execution_count": 805,
   "metadata": {
    "ExecuteTime": {
     "end_time": "2020-12-13T20:28:43.672863Z",
     "start_time": "2020-12-13T20:28:43.657505Z"
    },
    "hidden": true
   },
   "outputs": [],
   "source": [
    "import os\n",
    "import re\n",
    "\n",
    "import numpy as np\n",
    "import pandas as pd\n",
    "\n",
    "from sklearn.model_selection import train_test_split\n",
    "from sklearn.metrics import roc_auc_score\n",
    "\n",
    "from string import punctuation\n",
    "from stop_words import get_stop_words\n",
    "from pymorphy2 import MorphAnalyzer"
   ]
  },
  {
   "cell_type": "markdown",
   "metadata": {
    "heading_collapsed": true
   },
   "source": [
    "### 1. Учим conv сеть для классификации - выбить auc выше 0.95"
   ]
  },
  {
   "cell_type": "markdown",
   "metadata": {
    "heading_collapsed": true,
    "hidden": true
   },
   "source": [
    "##### Data import"
   ]
  },
  {
   "cell_type": "code",
   "execution_count": 806,
   "metadata": {
    "ExecuteTime": {
     "end_time": "2020-12-13T20:28:43.688861Z",
     "start_time": "2020-12-13T20:28:43.679305Z"
    },
    "colab": {},
    "colab_type": "code",
    "hidden": true,
    "id": "2H5tFUEMCE7d"
   },
   "outputs": [],
   "source": [
    "max_words = 200\n",
    "max_len = 40\n",
    "num_classes = 1\n",
    "\n",
    "# Training\n",
    "epochs = 20\n",
    "batch_size = 512\n",
    "print_batch_n = 100"
   ]
  },
  {
   "cell_type": "code",
   "execution_count": 807,
   "metadata": {
    "ExecuteTime": {
     "end_time": "2020-12-13T20:28:44.845956Z",
     "start_time": "2020-12-13T20:28:43.695861Z"
    },
    "hidden": true
   },
   "outputs": [],
   "source": [
    "df = pd.read_excel('отзывы за лето.xls')"
   ]
  },
  {
   "cell_type": "code",
   "execution_count": 808,
   "metadata": {
    "ExecuteTime": {
     "end_time": "2020-12-13T20:28:44.892863Z",
     "start_time": "2020-12-13T20:28:44.853880Z"
    },
    "hidden": true
   },
   "outputs": [
    {
     "data": {
      "text/html": [
       "<div>\n",
       "<style scoped>\n",
       "    .dataframe tbody tr th:only-of-type {\n",
       "        vertical-align: middle;\n",
       "    }\n",
       "\n",
       "    .dataframe tbody tr th {\n",
       "        vertical-align: top;\n",
       "    }\n",
       "\n",
       "    .dataframe thead th {\n",
       "        text-align: right;\n",
       "    }\n",
       "</style>\n",
       "<table border=\"1\" class=\"dataframe\">\n",
       "  <thead>\n",
       "    <tr style=\"text-align: right;\">\n",
       "      <th></th>\n",
       "      <th>Rating</th>\n",
       "      <th>Content</th>\n",
       "      <th>Date</th>\n",
       "    </tr>\n",
       "  </thead>\n",
       "  <tbody>\n",
       "    <tr>\n",
       "      <th>0</th>\n",
       "      <td>5</td>\n",
       "      <td>It just works!</td>\n",
       "      <td>2017-08-14</td>\n",
       "    </tr>\n",
       "    <tr>\n",
       "      <th>1</th>\n",
       "      <td>4</td>\n",
       "      <td>В целом удобноное приложение...из минусов хотя...</td>\n",
       "      <td>2017-08-14</td>\n",
       "    </tr>\n",
       "    <tr>\n",
       "      <th>2</th>\n",
       "      <td>5</td>\n",
       "      <td>Отлично все</td>\n",
       "      <td>2017-08-14</td>\n",
       "    </tr>\n",
       "  </tbody>\n",
       "</table>\n",
       "</div>"
      ],
      "text/plain": [
       "   Rating                                            Content        Date\n",
       "0       5                                     It just works!  2017-08-14\n",
       "1       4  В целом удобноное приложение...из минусов хотя...  2017-08-14\n",
       "2       5                                        Отлично все  2017-08-14"
      ]
     },
     "execution_count": 808,
     "metadata": {},
     "output_type": "execute_result"
    }
   ],
   "source": [
    "df.head(3)"
   ]
  },
  {
   "cell_type": "code",
   "execution_count": 809,
   "metadata": {
    "ExecuteTime": {
     "end_time": "2020-12-13T20:28:44.955174Z",
     "start_time": "2020-12-13T20:28:44.905873Z"
    },
    "hidden": true
   },
   "outputs": [],
   "source": [
    "df['class'] = -1\n",
    "df.loc[df['Rating'] < 3, 'class'] = 0\n",
    "df.loc[df['Rating'] > 3, 'class'] = 1"
   ]
  },
  {
   "cell_type": "code",
   "execution_count": 810,
   "metadata": {
    "ExecuteTime": {
     "end_time": "2020-12-13T20:28:44.986895Z",
     "start_time": "2020-12-13T20:28:44.962911Z"
    },
    "hidden": true
   },
   "outputs": [],
   "source": [
    "df = df.loc[df['class'] != -1]"
   ]
  },
  {
   "cell_type": "code",
   "execution_count": 811,
   "metadata": {
    "ExecuteTime": {
     "end_time": "2020-12-13T20:28:45.017868Z",
     "start_time": "2020-12-13T20:28:44.992588Z"
    },
    "hidden": true
   },
   "outputs": [
    {
     "data": {
      "text/html": [
       "<div>\n",
       "<style scoped>\n",
       "    .dataframe tbody tr th:only-of-type {\n",
       "        vertical-align: middle;\n",
       "    }\n",
       "\n",
       "    .dataframe tbody tr th {\n",
       "        vertical-align: top;\n",
       "    }\n",
       "\n",
       "    .dataframe thead th {\n",
       "        text-align: right;\n",
       "    }\n",
       "</style>\n",
       "<table border=\"1\" class=\"dataframe\">\n",
       "  <thead>\n",
       "    <tr style=\"text-align: right;\">\n",
       "      <th></th>\n",
       "      <th>Rating</th>\n",
       "      <th>Content</th>\n",
       "      <th>Date</th>\n",
       "      <th>class</th>\n",
       "    </tr>\n",
       "  </thead>\n",
       "  <tbody>\n",
       "    <tr>\n",
       "      <th>10</th>\n",
       "      <td>5</td>\n",
       "      <td>Все ок!</td>\n",
       "      <td>2017-08-14</td>\n",
       "      <td>1</td>\n",
       "    </tr>\n",
       "    <tr>\n",
       "      <th>11</th>\n",
       "      <td>5</td>\n",
       "      <td>Все нормально, кроме того что уведомление нель...</td>\n",
       "      <td>2017-08-14</td>\n",
       "      <td>1</td>\n",
       "    </tr>\n",
       "    <tr>\n",
       "      <th>12</th>\n",
       "      <td>2</td>\n",
       "      <td>Не стартует без доступа к gps, sms, звонкам и ...</td>\n",
       "      <td>2017-08-14</td>\n",
       "      <td>0</td>\n",
       "    </tr>\n",
       "    <tr>\n",
       "      <th>13</th>\n",
       "      <td>5</td>\n",
       "      <td>Очень удобно, работает замечательно, подвисани...</td>\n",
       "      <td>2017-08-14</td>\n",
       "      <td>1</td>\n",
       "    </tr>\n",
       "    <tr>\n",
       "      <th>14</th>\n",
       "      <td>5</td>\n",
       "      <td>Очень удобно</td>\n",
       "      <td>2017-08-14</td>\n",
       "      <td>1</td>\n",
       "    </tr>\n",
       "  </tbody>\n",
       "</table>\n",
       "</div>"
      ],
      "text/plain": [
       "    Rating                                            Content        Date  \\\n",
       "10       5                                            Все ок!  2017-08-14   \n",
       "11       5  Все нормально, кроме того что уведомление нель...  2017-08-14   \n",
       "12       2  Не стартует без доступа к gps, sms, звонкам и ...  2017-08-14   \n",
       "13       5  Очень удобно, работает замечательно, подвисани...  2017-08-14   \n",
       "14       5                                       Очень удобно  2017-08-14   \n",
       "\n",
       "    class  \n",
       "10      1  \n",
       "11      1  \n",
       "12      0  \n",
       "13      1  \n",
       "14      1  "
      ]
     },
     "execution_count": 811,
     "metadata": {},
     "output_type": "execute_result"
    }
   ],
   "source": [
    "df[10:15]"
   ]
  },
  {
   "cell_type": "code",
   "execution_count": 812,
   "metadata": {
    "ExecuteTime": {
     "end_time": "2020-12-13T20:28:45.049861Z",
     "start_time": "2020-12-13T20:28:45.025968Z"
    },
    "hidden": true
   },
   "outputs": [],
   "source": [
    "df.drop(columns=['Rating', 'Date'], inplace=True)\n",
    "df.rename(columns={'Content': 'text'}, inplace=True)"
   ]
  },
  {
   "cell_type": "code",
   "execution_count": 813,
   "metadata": {
    "ExecuteTime": {
     "end_time": "2020-12-13T20:28:45.080863Z",
     "start_time": "2020-12-13T20:28:45.055270Z"
    },
    "hidden": true
   },
   "outputs": [
    {
     "data": {
      "text/html": [
       "<div>\n",
       "<style scoped>\n",
       "    .dataframe tbody tr th:only-of-type {\n",
       "        vertical-align: middle;\n",
       "    }\n",
       "\n",
       "    .dataframe tbody tr th {\n",
       "        vertical-align: top;\n",
       "    }\n",
       "\n",
       "    .dataframe thead th {\n",
       "        text-align: right;\n",
       "    }\n",
       "</style>\n",
       "<table border=\"1\" class=\"dataframe\">\n",
       "  <thead>\n",
       "    <tr style=\"text-align: right;\">\n",
       "      <th></th>\n",
       "      <th>text</th>\n",
       "      <th>class</th>\n",
       "    </tr>\n",
       "  </thead>\n",
       "  <tbody>\n",
       "    <tr>\n",
       "      <th>0</th>\n",
       "      <td>It just works!</td>\n",
       "      <td>1</td>\n",
       "    </tr>\n",
       "    <tr>\n",
       "      <th>1</th>\n",
       "      <td>В целом удобноное приложение...из минусов хотя...</td>\n",
       "      <td>1</td>\n",
       "    </tr>\n",
       "    <tr>\n",
       "      <th>2</th>\n",
       "      <td>Отлично все</td>\n",
       "      <td>1</td>\n",
       "    </tr>\n",
       "  </tbody>\n",
       "</table>\n",
       "</div>"
      ],
      "text/plain": [
       "                                                text  class\n",
       "0                                     It just works!      1\n",
       "1  В целом удобноное приложение...из минусов хотя...      1\n",
       "2                                        Отлично все      1"
      ]
     },
     "execution_count": 813,
     "metadata": {},
     "output_type": "execute_result"
    }
   ],
   "source": [
    "df[:3]"
   ]
  },
  {
   "cell_type": "code",
   "execution_count": 814,
   "metadata": {
    "ExecuteTime": {
     "end_time": "2020-12-13T20:28:45.128868Z",
     "start_time": "2020-12-13T20:28:45.089901Z"
    },
    "hidden": true
   },
   "outputs": [],
   "source": [
    "df_train, df_test = train_test_split(df, test_size=0.001, shuffle=True)\n",
    "df_train, df_val = train_test_split(df_train, test_size=0.1, shuffle=True)"
   ]
  },
  {
   "cell_type": "code",
   "execution_count": 815,
   "metadata": {
    "ExecuteTime": {
     "end_time": "2020-12-13T20:28:45.176869Z",
     "start_time": "2020-12-13T20:28:45.139869Z"
    },
    "colab": {
     "base_uri": "https://localhost:8080/",
     "height": 204
    },
    "colab_type": "code",
    "executionInfo": {
     "elapsed": 566,
     "status": "ok",
     "timestamp": 1590650140159,
     "user": {
      "displayName": "Roman Zakharov",
      "photoUrl": "",
      "userId": "18255168926005506833"
     },
     "user_tz": -240
    },
    "hidden": true,
    "id": "KBSf-OfDzWOI",
    "outputId": "8b28d120-8490-44b3-cb86-6a1267ef1ad1"
   },
   "outputs": [
    {
     "data": {
      "text/html": [
       "<div>\n",
       "<style scoped>\n",
       "    .dataframe tbody tr th:only-of-type {\n",
       "        vertical-align: middle;\n",
       "    }\n",
       "\n",
       "    .dataframe tbody tr th {\n",
       "        vertical-align: top;\n",
       "    }\n",
       "\n",
       "    .dataframe thead th {\n",
       "        text-align: right;\n",
       "    }\n",
       "</style>\n",
       "<table border=\"1\" class=\"dataframe\">\n",
       "  <thead>\n",
       "    <tr style=\"text-align: right;\">\n",
       "      <th></th>\n",
       "      <th>text</th>\n",
       "      <th>class</th>\n",
       "    </tr>\n",
       "  </thead>\n",
       "  <tbody>\n",
       "    <tr>\n",
       "      <th>3285</th>\n",
       "      <td>Долго</td>\n",
       "      <td>1</td>\n",
       "    </tr>\n",
       "    <tr>\n",
       "      <th>17948</th>\n",
       "      <td>Добавьте,пожалуйста, оформление частичной доср...</td>\n",
       "      <td>1</td>\n",
       "    </tr>\n",
       "    <tr>\n",
       "      <th>5629</th>\n",
       "      <td>Все отлично работает</td>\n",
       "      <td>1</td>\n",
       "    </tr>\n",
       "  </tbody>\n",
       "</table>\n",
       "</div>"
      ],
      "text/plain": [
       "                                                    text  class\n",
       "3285                                               Долго      1\n",
       "17948  Добавьте,пожалуйста, оформление частичной доср...      1\n",
       "5629                                Все отлично работает      1"
      ]
     },
     "execution_count": 815,
     "metadata": {},
     "output_type": "execute_result"
    }
   ],
   "source": [
    "df_train.head(3)"
   ]
  },
  {
   "cell_type": "code",
   "execution_count": 816,
   "metadata": {
    "ExecuteTime": {
     "end_time": "2020-12-13T20:28:45.207862Z",
     "start_time": "2020-12-13T20:28:45.184126Z"
    },
    "colab": {
     "base_uri": "https://localhost:8080/",
     "height": 204
    },
    "colab_type": "code",
    "executionInfo": {
     "elapsed": 5908,
     "status": "ok",
     "timestamp": 1590650166113,
     "user": {
      "displayName": "Roman Zakharov",
      "photoUrl": "",
      "userId": "18255168926005506833"
     },
     "user_tz": -240
    },
    "hidden": true,
    "id": "LuZtq9cwIvMt",
    "outputId": "91c8b4fb-a01b-4bbb-c3a9-2dc08922f193"
   },
   "outputs": [
    {
     "data": {
      "text/html": [
       "<div>\n",
       "<style scoped>\n",
       "    .dataframe tbody tr th:only-of-type {\n",
       "        vertical-align: middle;\n",
       "    }\n",
       "\n",
       "    .dataframe tbody tr th {\n",
       "        vertical-align: top;\n",
       "    }\n",
       "\n",
       "    .dataframe thead th {\n",
       "        text-align: right;\n",
       "    }\n",
       "</style>\n",
       "<table border=\"1\" class=\"dataframe\">\n",
       "  <thead>\n",
       "    <tr style=\"text-align: right;\">\n",
       "      <th></th>\n",
       "      <th>text</th>\n",
       "      <th>class</th>\n",
       "    </tr>\n",
       "  </thead>\n",
       "  <tbody>\n",
       "    <tr>\n",
       "      <th>15023</th>\n",
       "      <td>Класс</td>\n",
       "      <td>1</td>\n",
       "    </tr>\n",
       "    <tr>\n",
       "      <th>226</th>\n",
       "      <td>Хорошее приложение. Всё удобно и быстро</td>\n",
       "      <td>1</td>\n",
       "    </tr>\n",
       "    <tr>\n",
       "      <th>1860</th>\n",
       "      <td>Все ок</td>\n",
       "      <td>1</td>\n",
       "    </tr>\n",
       "  </tbody>\n",
       "</table>\n",
       "</div>"
      ],
      "text/plain": [
       "                                          text  class\n",
       "15023                                    Класс      1\n",
       "226    Хорошее приложение. Всё удобно и быстро      1\n",
       "1860                                    Все ок      1"
      ]
     },
     "execution_count": 816,
     "metadata": {},
     "output_type": "execute_result"
    }
   ],
   "source": [
    "df_test.head(3)"
   ]
  },
  {
   "cell_type": "code",
   "execution_count": 817,
   "metadata": {
    "ExecuteTime": {
     "end_time": "2020-12-13T20:28:45.238861Z",
     "start_time": "2020-12-13T20:28:45.214865Z"
    },
    "colab": {
     "base_uri": "https://localhost:8080/",
     "height": 204
    },
    "colab_type": "code",
    "executionInfo": {
     "elapsed": 625,
     "status": "ok",
     "timestamp": 1590650173083,
     "user": {
      "displayName": "Roman Zakharov",
      "photoUrl": "",
      "userId": "18255168926005506833"
     },
     "user_tz": -240
    },
    "hidden": true,
    "id": "_9l0iHhaI0O1",
    "outputId": "4b7f24ee-222f-464b-e669-d653138571d1"
   },
   "outputs": [
    {
     "data": {
      "text/html": [
       "<div>\n",
       "<style scoped>\n",
       "    .dataframe tbody tr th:only-of-type {\n",
       "        vertical-align: middle;\n",
       "    }\n",
       "\n",
       "    .dataframe tbody tr th {\n",
       "        vertical-align: top;\n",
       "    }\n",
       "\n",
       "    .dataframe thead th {\n",
       "        text-align: right;\n",
       "    }\n",
       "</style>\n",
       "<table border=\"1\" class=\"dataframe\">\n",
       "  <thead>\n",
       "    <tr style=\"text-align: right;\">\n",
       "      <th></th>\n",
       "      <th>text</th>\n",
       "      <th>class</th>\n",
       "    </tr>\n",
       "  </thead>\n",
       "  <tbody>\n",
       "    <tr>\n",
       "      <th>10291</th>\n",
       "      <td>Просто и оперативно, спасибо!</td>\n",
       "      <td>1</td>\n",
       "    </tr>\n",
       "    <tr>\n",
       "      <th>6853</th>\n",
       "      <td>Молодцы</td>\n",
       "      <td>1</td>\n",
       "    </tr>\n",
       "    <tr>\n",
       "      <th>556</th>\n",
       "      <td>Norm</td>\n",
       "      <td>1</td>\n",
       "    </tr>\n",
       "  </tbody>\n",
       "</table>\n",
       "</div>"
      ],
      "text/plain": [
       "                                text  class\n",
       "10291  Просто и оперативно, спасибо!      1\n",
       "6853                         Молодцы      1\n",
       "556                             Norm      1"
      ]
     },
     "execution_count": 817,
     "metadata": {},
     "output_type": "execute_result"
    }
   ],
   "source": [
    "df_val.head(3)"
   ]
  },
  {
   "cell_type": "markdown",
   "metadata": {
    "colab_type": "text",
    "heading_collapsed": true,
    "hidden": true,
    "id": "qEyvOxoOJDTP"
   },
   "source": [
    "##### Preprocessing"
   ]
  },
  {
   "cell_type": "code",
   "execution_count": 818,
   "metadata": {
    "ExecuteTime": {
     "end_time": "2020-12-13T20:29:13.540180Z",
     "start_time": "2020-12-13T20:28:45.244382Z"
    },
    "hidden": true
   },
   "outputs": [
    {
     "name": "stderr",
     "output_type": "stream",
     "text": [
      "C:\\Users\\Mihail\\Anaconda3\\lib\\site-packages\\ipykernel_launcher.py:15: SettingWithCopyWarning: \n",
      "A value is trying to be set on a copy of a slice from a DataFrame.\n",
      "Try using .loc[row_indexer,col_indexer] = value instead\n",
      "\n",
      "See the caveats in the documentation: http://pandas.pydata.org/pandas-docs/stable/user_guide/indexing.html#returning-a-view-versus-a-copy\n",
      "  from ipykernel import kernelapp as app\n"
     ]
    }
   ],
   "source": [
    "sw = set(get_stop_words(\"ru\"))\n",
    "exclude = set(punctuation)\n",
    "morpher = MorphAnalyzer()\n",
    "\n",
    "def preprocess_text(txt):\n",
    "    txt = str(txt)\n",
    "    txt = \"\".join(c for c in txt if c not in exclude)\n",
    "    txt = txt.lower()\n",
    "    txt = re.sub(\"\\sне\", \"не\", txt)\n",
    "    txt = [morpher.parse(word)[0].normal_form for word in txt.split() if word not in sw]\n",
    "    return \" \".join(txt)\n",
    "\n",
    "df_train['text'] = df_train['text'].apply(preprocess_text)\n",
    "df_val['text'] = df_val['text'].apply(preprocess_text)\n",
    "df_test['text'] = df_test['text'].apply(preprocess_text)"
   ]
  },
  {
   "cell_type": "code",
   "execution_count": 819,
   "metadata": {
    "ExecuteTime": {
     "end_time": "2020-12-13T20:29:13.588142Z",
     "start_time": "2020-12-13T20:29:13.544147Z"
    },
    "colab": {},
    "colab_type": "code",
    "hidden": true,
    "id": "C4o9QgmWI3Pw"
   },
   "outputs": [],
   "source": [
    "train_corpus = \" \".join(df_train[\"text\"])\n",
    "train_corpus = train_corpus.lower()"
   ]
  },
  {
   "cell_type": "code",
   "execution_count": 820,
   "metadata": {
    "ExecuteTime": {
     "end_time": "2020-12-13T20:29:14.885441Z",
     "start_time": "2020-12-13T20:29:13.593146Z"
    },
    "colab": {
     "base_uri": "https://localhost:8080/",
     "height": 51
    },
    "colab_type": "code",
    "executionInfo": {
     "elapsed": 10183,
     "status": "ok",
     "timestamp": 1590650264825,
     "user": {
      "displayName": "Roman Zakharov",
      "photoUrl": "",
      "userId": "18255168926005506833"
     },
     "user_tz": -240
    },
    "hidden": true,
    "id": "Hed2ySbwJH6B",
    "outputId": "66a75988-b4e3-45aa-a483-adbdc766db03"
   },
   "outputs": [
    {
     "name": "stderr",
     "output_type": "stream",
     "text": [
      "[nltk_data] Downloading package punkt to\n",
      "[nltk_data]     C:\\Users\\Mihail\\AppData\\Roaming\\nltk_data...\n",
      "[nltk_data]   Package punkt is already up-to-date!\n"
     ]
    }
   ],
   "source": [
    "import nltk\n",
    "from nltk.tokenize import word_tokenize\n",
    "nltk.download(\"punkt\")\n",
    "\n",
    "tokens = word_tokenize(train_corpus)"
   ]
  },
  {
   "cell_type": "markdown",
   "metadata": {
    "colab_type": "text",
    "hidden": true,
    "id": "yJ8T0fwYJYJX"
   },
   "source": [
    "Отфильтруем данные\n",
    "\n",
    "и соберём в корпус N наиболее частых токенов"
   ]
  },
  {
   "cell_type": "code",
   "execution_count": 821,
   "metadata": {
    "ExecuteTime": {
     "end_time": "2020-12-13T20:29:14.964488Z",
     "start_time": "2020-12-13T20:29:14.895844Z"
    },
    "colab": {},
    "colab_type": "code",
    "hidden": true,
    "id": "EXOLVK1tJLT8"
   },
   "outputs": [],
   "source": [
    "tokens_filtered = [word for word in tokens if word.isalnum()]"
   ]
  },
  {
   "cell_type": "code",
   "execution_count": 822,
   "metadata": {
    "ExecuteTime": {
     "end_time": "2020-12-13T20:29:15.233499Z",
     "start_time": "2020-12-13T20:29:14.973449Z"
    },
    "colab": {},
    "colab_type": "code",
    "hidden": true,
    "id": "8qCQH5nIJoiB"
   },
   "outputs": [],
   "source": [
    "from nltk.probability import FreqDist\n",
    "dist = FreqDist(tokens_filtered)\n",
    "tokens_filtered_top = [pair[0] for pair in dist.most_common(max_words-1)]"
   ]
  },
  {
   "cell_type": "code",
   "execution_count": 823,
   "metadata": {
    "ExecuteTime": {
     "end_time": "2020-12-13T20:29:15.265443Z",
     "start_time": "2020-12-13T20:29:15.240444Z"
    },
    "colab": {
     "base_uri": "https://localhost:8080/",
     "height": 340
    },
    "colab_type": "code",
    "executionInfo": {
     "elapsed": 576,
     "status": "ok",
     "timestamp": 1590650396521,
     "user": {
      "displayName": "Roman Zakharov",
      "photoUrl": "",
      "userId": "18255168926005506833"
     },
     "user_tz": -240
    },
    "hidden": true,
    "id": "bRQ-6wwjJrGo",
    "outputId": "ba8ebf9e-c6aa-4703-b54f-39b561e33493"
   },
   "outputs": [
    {
     "data": {
      "text/plain": [
       "['приложение',\n",
       " 'удобно',\n",
       " 'работать',\n",
       " 'удобный',\n",
       " 'отлично',\n",
       " 'нравиться',\n",
       " 'отличный',\n",
       " 'хороший',\n",
       " 'телефон',\n",
       " 'супер']"
      ]
     },
     "execution_count": 823,
     "metadata": {},
     "output_type": "execute_result"
    }
   ],
   "source": [
    "tokens_filtered_top[:10]"
   ]
  },
  {
   "cell_type": "code",
   "execution_count": 824,
   "metadata": {
    "ExecuteTime": {
     "end_time": "2020-12-13T20:29:15.297441Z",
     "start_time": "2020-12-13T20:29:15.276439Z"
    },
    "colab": {},
    "colab_type": "code",
    "hidden": true,
    "id": "Tdk777qGJtz4"
   },
   "outputs": [],
   "source": [
    "vocabulary = {v: k for k, v in dict(enumerate(tokens_filtered_top, 1)).items()}"
   ]
  },
  {
   "cell_type": "code",
   "execution_count": 825,
   "metadata": {
    "ExecuteTime": {
     "end_time": "2020-12-13T20:29:15.329716Z",
     "start_time": "2020-12-13T20:29:15.305445Z"
    },
    "colab": {},
    "colab_type": "code",
    "hidden": true,
    "id": "5OULZgvkJzpj"
   },
   "outputs": [],
   "source": [
    "def text_to_sequence(text, maxlen):\n",
    "    result = []\n",
    "    tokens = word_tokenize(text.lower())\n",
    "    tokens_filtered = [word for word in tokens if word.isalnum()]\n",
    "    for word in tokens_filtered:\n",
    "        if word in vocabulary:\n",
    "            result.append(vocabulary[word])\n",
    "    padding = [0]*(maxlen-len(result))\n",
    "    return padding + result[-maxlen:]"
   ]
  },
  {
   "cell_type": "code",
   "execution_count": 826,
   "metadata": {
    "ExecuteTime": {
     "end_time": "2020-12-13T20:29:18.963532Z",
     "start_time": "2020-12-13T20:29:15.335441Z"
    },
    "colab": {},
    "colab_type": "code",
    "hidden": true,
    "id": "pqHlf5nNJ2hl"
   },
   "outputs": [],
   "source": [
    "x_train = np.asarray([text_to_sequence(text, max_len) for text in df_train[\"text\"]], dtype=np.int32)\n",
    "x_test = np.asarray([text_to_sequence(text, max_len) for text in df_test[\"text\"]], dtype=np.int32)\n",
    "x_val = np.asarray([text_to_sequence(text, max_len) for text in df_val[\"text\"]], dtype=np.int32)"
   ]
  },
  {
   "cell_type": "code",
   "execution_count": 827,
   "metadata": {
    "ExecuteTime": {
     "end_time": "2020-12-13T20:29:18.978892Z",
     "start_time": "2020-12-13T20:29:18.967608Z"
    },
    "colab": {
     "base_uri": "https://localhost:8080/",
     "height": 34
    },
    "colab_type": "code",
    "executionInfo": {
     "elapsed": 562,
     "status": "ok",
     "timestamp": 1590650625870,
     "user": {
      "displayName": "Roman Zakharov",
      "photoUrl": "",
      "userId": "18255168926005506833"
     },
     "user_tz": -240
    },
    "hidden": true,
    "id": "lI4NUg_TJ6NK",
    "outputId": "5d29285d-6c2e-4c34-f307-c2e9c3c12631"
   },
   "outputs": [
    {
     "data": {
      "text/plain": [
       "(17755, 40)"
      ]
     },
     "execution_count": 827,
     "metadata": {},
     "output_type": "execute_result"
    }
   ],
   "source": [
    "x_train.shape"
   ]
  },
  {
   "cell_type": "code",
   "execution_count": 828,
   "metadata": {
    "ExecuteTime": {
     "end_time": "2020-12-13T20:29:19.010438Z",
     "start_time": "2020-12-13T20:29:18.984912Z"
    },
    "hidden": true
   },
   "outputs": [
    {
     "data": {
      "text/plain": [
       "40"
      ]
     },
     "execution_count": 828,
     "metadata": {},
     "output_type": "execute_result"
    }
   ],
   "source": [
    "max_len"
   ]
  },
  {
   "cell_type": "code",
   "execution_count": 829,
   "metadata": {
    "ExecuteTime": {
     "end_time": "2020-12-13T20:29:19.043448Z",
     "start_time": "2020-12-13T20:29:19.024438Z"
    },
    "colab": {
     "base_uri": "https://localhost:8080/",
     "height": 170
    },
    "colab_type": "code",
    "executionInfo": {
     "elapsed": 643,
     "status": "ok",
     "timestamp": 1590650628713,
     "user": {
      "displayName": "Roman Zakharov",
      "photoUrl": "",
      "userId": "18255168926005506833"
     },
     "user_tz": -240
    },
    "hidden": true,
    "id": "9QlLvXd9KDf3",
    "outputId": "0355c6dc-b479-4031-bf7d-54f158607906"
   },
   "outputs": [
    {
     "data": {
      "text/plain": [
       "array([  0,   0,   0,   0,   0,   0,   0,   0,   0,   0,   0,   0,   0,\n",
       "         0,   0,   0,   0,   0,   0,   0,   0,   0,   0,   0,   0,   0,\n",
       "         0,   0,   0,   0,   0,   0,   0,   0,   0,   0,   0,   0,   0,\n",
       "       107])"
      ]
     },
     "execution_count": 829,
     "metadata": {},
     "output_type": "execute_result"
    }
   ],
   "source": [
    "x_train[1]"
   ]
  },
  {
   "cell_type": "markdown",
   "metadata": {
    "heading_collapsed": true,
    "hidden": true
   },
   "source": [
    "##### Объявляем модель"
   ]
  },
  {
   "cell_type": "code",
   "execution_count": 830,
   "metadata": {
    "ExecuteTime": {
     "end_time": "2020-12-13T20:29:19.072444Z",
     "start_time": "2020-12-13T20:29:19.050438Z"
    },
    "hidden": true
   },
   "outputs": [],
   "source": [
    "import numpy as np\n",
    "import keras\n",
    "from tensorflow.keras.models import Sequential, Model\n",
    "from tensorflow.keras.layers import Dense, Dropout, Activation, Input, Embedding, Conv1D, GlobalMaxPool1D\n",
    "from tensorflow.keras.preprocessing.text import Tokenizer\n",
    "from tensorflow.keras.preprocessing.sequence import pad_sequences\n",
    "from tensorflow.keras.callbacks import TensorBoard \n",
    "from keras.objectives import categorical_crossentropy\n",
    "from tensorflow.keras.callbacks import EarlyStopping  \n",
    "\n",
    "from tensorflow.keras.utils import to_categorical\n",
    "from tensorflow.keras.constraints import max_norm\n",
    "from tensorflow.keras import activations\n",
    "\n",
    "from tensorflow import keras as K"
   ]
  },
  {
   "cell_type": "code",
   "execution_count": 831,
   "metadata": {
    "ExecuteTime": {
     "end_time": "2020-12-13T20:29:19.104000Z",
     "start_time": "2020-12-13T20:29:19.079631Z"
    },
    "hidden": true
   },
   "outputs": [],
   "source": [
    "num_classes = 2\n",
    "y_train = keras.utils.to_categorical(df_train[\"class\"], num_classes)\n",
    "y_val = keras.utils.to_categorical(df_val[\"class\"], num_classes)"
   ]
  },
  {
   "cell_type": "code",
   "execution_count": 909,
   "metadata": {
    "ExecuteTime": {
     "end_time": "2020-12-13T20:56:19.976632Z",
     "start_time": "2020-12-13T20:56:19.714946Z"
    },
    "hidden": true
   },
   "outputs": [],
   "source": [
    "model = Sequential()\n",
    "model.add(Embedding(input_dim=250, output_dim=328, input_length=max_len))\n",
    "model.add(Conv1D(147, 3))\n",
    "model.add(Activation(activations.relu))\n",
    "# model.add(Dropout(0.025))\n",
    "model.add(Conv1D(147, 3))\n",
    "model.add(Activation(activations.relu))\n",
    "# model.add(Dropout(0.025))\n",
    "model.add(Conv1D(147, 3))\n",
    "model.add(Activation(activations.relu))\n",
    "# model.add(Dropout(0.025))\n",
    "\n",
    "\n",
    "# model.add(Conv1D(64, 3))\n",
    "# model.add(Activation(activations.tanh))\n",
    "\n",
    "\n",
    "\n",
    "model.add(GlobalMaxPool1D())\n",
    "\n",
    "model.add(Dense(128))\n",
    "model.add(Activation(\"relu\"))\n",
    "model.add(Dense(num_classes))\n",
    "model.add(Activation('softmax'))"
   ]
  },
  {
   "cell_type": "code",
   "execution_count": 910,
   "metadata": {
    "ExecuteTime": {
     "end_time": "2020-12-13T20:56:21.050578Z",
     "start_time": "2020-12-13T20:56:21.008577Z"
    },
    "hidden": true
   },
   "outputs": [],
   "source": [
    "model.compile(loss='categorical_crossentropy',\n",
    "              optimizer=K.optimizers.Adam(learning_rate=0.0045),\n",
    "              metrics=['accuracy'])"
   ]
  },
  {
   "cell_type": "markdown",
   "metadata": {
    "heading_collapsed": true,
    "hidden": true
   },
   "source": [
    "##### Обучаем модель"
   ]
  },
  {
   "cell_type": "code",
   "execution_count": 913,
   "metadata": {
    "ExecuteTime": {
     "end_time": "2020-12-13T20:58:18.651356Z",
     "start_time": "2020-12-13T20:57:51.974407Z"
    },
    "hidden": true,
    "scrolled": true
   },
   "outputs": [
    {
     "name": "stdout",
     "output_type": "stream",
     "text": [
      "Epoch 1/3\n",
      "18/18 [==============================] - 23s 1s/step - loss: 0.1920 - accuracy: 0.9193 - val_loss: 0.1741 - val_accuracy: 0.9157\n",
      "Epoch 2/3\n"
     ]
    },
    {
     "ename": "KeyboardInterrupt",
     "evalue": "",
     "output_type": "error",
     "traceback": [
      "\u001b[1;31m---------------------------------------------------------------------------\u001b[0m",
      "\u001b[1;31mKeyboardInterrupt\u001b[0m                         Traceback (most recent call last)",
      "\u001b[1;32m<ipython-input-913-758427acc270>\u001b[0m in \u001b[0;36m<module>\u001b[1;34m\u001b[0m\n\u001b[0;32m      9\u001b[0m                     \u001b[0mepochs\u001b[0m\u001b[1;33m=\u001b[0m\u001b[0mepochs\u001b[0m\u001b[1;33m,\u001b[0m\u001b[1;33m\u001b[0m\u001b[1;33m\u001b[0m\u001b[0m\n\u001b[0;32m     10\u001b[0m                     \u001b[0mverbose\u001b[0m\u001b[1;33m=\u001b[0m\u001b[1;36m1\u001b[0m\u001b[1;33m,\u001b[0m\u001b[1;33m\u001b[0m\u001b[1;33m\u001b[0m\u001b[0m\n\u001b[1;32m---> 11\u001b[1;33m                     validation_split=0.01)\n\u001b[0m",
      "\u001b[1;32m~\\Anaconda3\\lib\\site-packages\\tensorflow\\python\\keras\\engine\\training.py\u001b[0m in \u001b[0;36m_method_wrapper\u001b[1;34m(self, *args, **kwargs)\u001b[0m\n\u001b[0;32m    106\u001b[0m   \u001b[1;32mdef\u001b[0m \u001b[0m_method_wrapper\u001b[0m\u001b[1;33m(\u001b[0m\u001b[0mself\u001b[0m\u001b[1;33m,\u001b[0m \u001b[1;33m*\u001b[0m\u001b[0margs\u001b[0m\u001b[1;33m,\u001b[0m \u001b[1;33m**\u001b[0m\u001b[0mkwargs\u001b[0m\u001b[1;33m)\u001b[0m\u001b[1;33m:\u001b[0m\u001b[1;33m\u001b[0m\u001b[1;33m\u001b[0m\u001b[0m\n\u001b[0;32m    107\u001b[0m     \u001b[1;32mif\u001b[0m \u001b[1;32mnot\u001b[0m \u001b[0mself\u001b[0m\u001b[1;33m.\u001b[0m\u001b[0m_in_multi_worker_mode\u001b[0m\u001b[1;33m(\u001b[0m\u001b[1;33m)\u001b[0m\u001b[1;33m:\u001b[0m  \u001b[1;31m# pylint: disable=protected-access\u001b[0m\u001b[1;33m\u001b[0m\u001b[1;33m\u001b[0m\u001b[0m\n\u001b[1;32m--> 108\u001b[1;33m       \u001b[1;32mreturn\u001b[0m \u001b[0mmethod\u001b[0m\u001b[1;33m(\u001b[0m\u001b[0mself\u001b[0m\u001b[1;33m,\u001b[0m \u001b[1;33m*\u001b[0m\u001b[0margs\u001b[0m\u001b[1;33m,\u001b[0m \u001b[1;33m**\u001b[0m\u001b[0mkwargs\u001b[0m\u001b[1;33m)\u001b[0m\u001b[1;33m\u001b[0m\u001b[1;33m\u001b[0m\u001b[0m\n\u001b[0m\u001b[0;32m    109\u001b[0m \u001b[1;33m\u001b[0m\u001b[0m\n\u001b[0;32m    110\u001b[0m     \u001b[1;31m# Running inside `run_distribute_coordinator` already.\u001b[0m\u001b[1;33m\u001b[0m\u001b[1;33m\u001b[0m\u001b[1;33m\u001b[0m\u001b[0m\n",
      "\u001b[1;32m~\\Anaconda3\\lib\\site-packages\\tensorflow\\python\\keras\\engine\\training.py\u001b[0m in \u001b[0;36mfit\u001b[1;34m(self, x, y, batch_size, epochs, verbose, callbacks, validation_split, validation_data, shuffle, class_weight, sample_weight, initial_epoch, steps_per_epoch, validation_steps, validation_batch_size, validation_freq, max_queue_size, workers, use_multiprocessing)\u001b[0m\n\u001b[0;32m   1096\u001b[0m                 batch_size=batch_size):\n\u001b[0;32m   1097\u001b[0m               \u001b[0mcallbacks\u001b[0m\u001b[1;33m.\u001b[0m\u001b[0mon_train_batch_begin\u001b[0m\u001b[1;33m(\u001b[0m\u001b[0mstep\u001b[0m\u001b[1;33m)\u001b[0m\u001b[1;33m\u001b[0m\u001b[1;33m\u001b[0m\u001b[0m\n\u001b[1;32m-> 1098\u001b[1;33m               \u001b[0mtmp_logs\u001b[0m \u001b[1;33m=\u001b[0m \u001b[0mtrain_function\u001b[0m\u001b[1;33m(\u001b[0m\u001b[0miterator\u001b[0m\u001b[1;33m)\u001b[0m\u001b[1;33m\u001b[0m\u001b[1;33m\u001b[0m\u001b[0m\n\u001b[0m\u001b[0;32m   1099\u001b[0m               \u001b[1;32mif\u001b[0m \u001b[0mdata_handler\u001b[0m\u001b[1;33m.\u001b[0m\u001b[0mshould_sync\u001b[0m\u001b[1;33m:\u001b[0m\u001b[1;33m\u001b[0m\u001b[1;33m\u001b[0m\u001b[0m\n\u001b[0;32m   1100\u001b[0m                 \u001b[0mcontext\u001b[0m\u001b[1;33m.\u001b[0m\u001b[0masync_wait\u001b[0m\u001b[1;33m(\u001b[0m\u001b[1;33m)\u001b[0m\u001b[1;33m\u001b[0m\u001b[1;33m\u001b[0m\u001b[0m\n",
      "\u001b[1;32m~\\Anaconda3\\lib\\site-packages\\tensorflow\\python\\eager\\def_function.py\u001b[0m in \u001b[0;36m__call__\u001b[1;34m(self, *args, **kwds)\u001b[0m\n\u001b[0;32m    778\u001b[0m       \u001b[1;32melse\u001b[0m\u001b[1;33m:\u001b[0m\u001b[1;33m\u001b[0m\u001b[1;33m\u001b[0m\u001b[0m\n\u001b[0;32m    779\u001b[0m         \u001b[0mcompiler\u001b[0m \u001b[1;33m=\u001b[0m \u001b[1;34m\"nonXla\"\u001b[0m\u001b[1;33m\u001b[0m\u001b[1;33m\u001b[0m\u001b[0m\n\u001b[1;32m--> 780\u001b[1;33m         \u001b[0mresult\u001b[0m \u001b[1;33m=\u001b[0m \u001b[0mself\u001b[0m\u001b[1;33m.\u001b[0m\u001b[0m_call\u001b[0m\u001b[1;33m(\u001b[0m\u001b[1;33m*\u001b[0m\u001b[0margs\u001b[0m\u001b[1;33m,\u001b[0m \u001b[1;33m**\u001b[0m\u001b[0mkwds\u001b[0m\u001b[1;33m)\u001b[0m\u001b[1;33m\u001b[0m\u001b[1;33m\u001b[0m\u001b[0m\n\u001b[0m\u001b[0;32m    781\u001b[0m \u001b[1;33m\u001b[0m\u001b[0m\n\u001b[0;32m    782\u001b[0m       \u001b[0mnew_tracing_count\u001b[0m \u001b[1;33m=\u001b[0m \u001b[0mself\u001b[0m\u001b[1;33m.\u001b[0m\u001b[0m_get_tracing_count\u001b[0m\u001b[1;33m(\u001b[0m\u001b[1;33m)\u001b[0m\u001b[1;33m\u001b[0m\u001b[1;33m\u001b[0m\u001b[0m\n",
      "\u001b[1;32m~\\Anaconda3\\lib\\site-packages\\tensorflow\\python\\eager\\def_function.py\u001b[0m in \u001b[0;36m_call\u001b[1;34m(self, *args, **kwds)\u001b[0m\n\u001b[0;32m    805\u001b[0m       \u001b[1;31m# In this case we have created variables on the first call, so we run the\u001b[0m\u001b[1;33m\u001b[0m\u001b[1;33m\u001b[0m\u001b[1;33m\u001b[0m\u001b[0m\n\u001b[0;32m    806\u001b[0m       \u001b[1;31m# defunned version which is guaranteed to never create variables.\u001b[0m\u001b[1;33m\u001b[0m\u001b[1;33m\u001b[0m\u001b[1;33m\u001b[0m\u001b[0m\n\u001b[1;32m--> 807\u001b[1;33m       \u001b[1;32mreturn\u001b[0m \u001b[0mself\u001b[0m\u001b[1;33m.\u001b[0m\u001b[0m_stateless_fn\u001b[0m\u001b[1;33m(\u001b[0m\u001b[1;33m*\u001b[0m\u001b[0margs\u001b[0m\u001b[1;33m,\u001b[0m \u001b[1;33m**\u001b[0m\u001b[0mkwds\u001b[0m\u001b[1;33m)\u001b[0m  \u001b[1;31m# pylint: disable=not-callable\u001b[0m\u001b[1;33m\u001b[0m\u001b[1;33m\u001b[0m\u001b[0m\n\u001b[0m\u001b[0;32m    808\u001b[0m     \u001b[1;32melif\u001b[0m \u001b[0mself\u001b[0m\u001b[1;33m.\u001b[0m\u001b[0m_stateful_fn\u001b[0m \u001b[1;32mis\u001b[0m \u001b[1;32mnot\u001b[0m \u001b[1;32mNone\u001b[0m\u001b[1;33m:\u001b[0m\u001b[1;33m\u001b[0m\u001b[1;33m\u001b[0m\u001b[0m\n\u001b[0;32m    809\u001b[0m       \u001b[1;31m# Release the lock early so that multiple threads can perform the call\u001b[0m\u001b[1;33m\u001b[0m\u001b[1;33m\u001b[0m\u001b[1;33m\u001b[0m\u001b[0m\n",
      "\u001b[1;32m~\\Anaconda3\\lib\\site-packages\\tensorflow\\python\\eager\\function.py\u001b[0m in \u001b[0;36m__call__\u001b[1;34m(self, *args, **kwargs)\u001b[0m\n\u001b[0;32m   2827\u001b[0m     \u001b[1;32mwith\u001b[0m \u001b[0mself\u001b[0m\u001b[1;33m.\u001b[0m\u001b[0m_lock\u001b[0m\u001b[1;33m:\u001b[0m\u001b[1;33m\u001b[0m\u001b[1;33m\u001b[0m\u001b[0m\n\u001b[0;32m   2828\u001b[0m       \u001b[0mgraph_function\u001b[0m\u001b[1;33m,\u001b[0m \u001b[0margs\u001b[0m\u001b[1;33m,\u001b[0m \u001b[0mkwargs\u001b[0m \u001b[1;33m=\u001b[0m \u001b[0mself\u001b[0m\u001b[1;33m.\u001b[0m\u001b[0m_maybe_define_function\u001b[0m\u001b[1;33m(\u001b[0m\u001b[0margs\u001b[0m\u001b[1;33m,\u001b[0m \u001b[0mkwargs\u001b[0m\u001b[1;33m)\u001b[0m\u001b[1;33m\u001b[0m\u001b[1;33m\u001b[0m\u001b[0m\n\u001b[1;32m-> 2829\u001b[1;33m     \u001b[1;32mreturn\u001b[0m \u001b[0mgraph_function\u001b[0m\u001b[1;33m.\u001b[0m\u001b[0m_filtered_call\u001b[0m\u001b[1;33m(\u001b[0m\u001b[0margs\u001b[0m\u001b[1;33m,\u001b[0m \u001b[0mkwargs\u001b[0m\u001b[1;33m)\u001b[0m  \u001b[1;31m# pylint: disable=protected-access\u001b[0m\u001b[1;33m\u001b[0m\u001b[1;33m\u001b[0m\u001b[0m\n\u001b[0m\u001b[0;32m   2830\u001b[0m \u001b[1;33m\u001b[0m\u001b[0m\n\u001b[0;32m   2831\u001b[0m   \u001b[1;33m@\u001b[0m\u001b[0mproperty\u001b[0m\u001b[1;33m\u001b[0m\u001b[1;33m\u001b[0m\u001b[0m\n",
      "\u001b[1;32m~\\Anaconda3\\lib\\site-packages\\tensorflow\\python\\eager\\function.py\u001b[0m in \u001b[0;36m_filtered_call\u001b[1;34m(self, args, kwargs, cancellation_manager)\u001b[0m\n\u001b[0;32m   1846\u001b[0m                            resource_variable_ops.BaseResourceVariable))],\n\u001b[0;32m   1847\u001b[0m         \u001b[0mcaptured_inputs\u001b[0m\u001b[1;33m=\u001b[0m\u001b[0mself\u001b[0m\u001b[1;33m.\u001b[0m\u001b[0mcaptured_inputs\u001b[0m\u001b[1;33m,\u001b[0m\u001b[1;33m\u001b[0m\u001b[1;33m\u001b[0m\u001b[0m\n\u001b[1;32m-> 1848\u001b[1;33m         cancellation_manager=cancellation_manager)\n\u001b[0m\u001b[0;32m   1849\u001b[0m \u001b[1;33m\u001b[0m\u001b[0m\n\u001b[0;32m   1850\u001b[0m   \u001b[1;32mdef\u001b[0m \u001b[0m_call_flat\u001b[0m\u001b[1;33m(\u001b[0m\u001b[0mself\u001b[0m\u001b[1;33m,\u001b[0m \u001b[0margs\u001b[0m\u001b[1;33m,\u001b[0m \u001b[0mcaptured_inputs\u001b[0m\u001b[1;33m,\u001b[0m \u001b[0mcancellation_manager\u001b[0m\u001b[1;33m=\u001b[0m\u001b[1;32mNone\u001b[0m\u001b[1;33m)\u001b[0m\u001b[1;33m:\u001b[0m\u001b[1;33m\u001b[0m\u001b[1;33m\u001b[0m\u001b[0m\n",
      "\u001b[1;32m~\\Anaconda3\\lib\\site-packages\\tensorflow\\python\\eager\\function.py\u001b[0m in \u001b[0;36m_call_flat\u001b[1;34m(self, args, captured_inputs, cancellation_manager)\u001b[0m\n\u001b[0;32m   1922\u001b[0m       \u001b[1;31m# No tape is watching; skip to running the function.\u001b[0m\u001b[1;33m\u001b[0m\u001b[1;33m\u001b[0m\u001b[1;33m\u001b[0m\u001b[0m\n\u001b[0;32m   1923\u001b[0m       return self._build_call_outputs(self._inference_function.call(\n\u001b[1;32m-> 1924\u001b[1;33m           ctx, args, cancellation_manager=cancellation_manager))\n\u001b[0m\u001b[0;32m   1925\u001b[0m     forward_backward = self._select_forward_and_backward_functions(\n\u001b[0;32m   1926\u001b[0m         \u001b[0margs\u001b[0m\u001b[1;33m,\u001b[0m\u001b[1;33m\u001b[0m\u001b[1;33m\u001b[0m\u001b[0m\n",
      "\u001b[1;32m~\\Anaconda3\\lib\\site-packages\\tensorflow\\python\\eager\\function.py\u001b[0m in \u001b[0;36mcall\u001b[1;34m(self, ctx, args, cancellation_manager)\u001b[0m\n\u001b[0;32m    548\u001b[0m               \u001b[0minputs\u001b[0m\u001b[1;33m=\u001b[0m\u001b[0margs\u001b[0m\u001b[1;33m,\u001b[0m\u001b[1;33m\u001b[0m\u001b[1;33m\u001b[0m\u001b[0m\n\u001b[0;32m    549\u001b[0m               \u001b[0mattrs\u001b[0m\u001b[1;33m=\u001b[0m\u001b[0mattrs\u001b[0m\u001b[1;33m,\u001b[0m\u001b[1;33m\u001b[0m\u001b[1;33m\u001b[0m\u001b[0m\n\u001b[1;32m--> 550\u001b[1;33m               ctx=ctx)\n\u001b[0m\u001b[0;32m    551\u001b[0m         \u001b[1;32melse\u001b[0m\u001b[1;33m:\u001b[0m\u001b[1;33m\u001b[0m\u001b[1;33m\u001b[0m\u001b[0m\n\u001b[0;32m    552\u001b[0m           outputs = execute.execute_with_cancellation(\n",
      "\u001b[1;32m~\\Anaconda3\\lib\\site-packages\\tensorflow\\python\\eager\\execute.py\u001b[0m in \u001b[0;36mquick_execute\u001b[1;34m(op_name, num_outputs, inputs, attrs, ctx, name)\u001b[0m\n\u001b[0;32m     58\u001b[0m     \u001b[0mctx\u001b[0m\u001b[1;33m.\u001b[0m\u001b[0mensure_initialized\u001b[0m\u001b[1;33m(\u001b[0m\u001b[1;33m)\u001b[0m\u001b[1;33m\u001b[0m\u001b[1;33m\u001b[0m\u001b[0m\n\u001b[0;32m     59\u001b[0m     tensors = pywrap_tfe.TFE_Py_Execute(ctx._handle, device_name, op_name,\n\u001b[1;32m---> 60\u001b[1;33m                                         inputs, attrs, num_outputs)\n\u001b[0m\u001b[0;32m     61\u001b[0m   \u001b[1;32mexcept\u001b[0m \u001b[0mcore\u001b[0m\u001b[1;33m.\u001b[0m\u001b[0m_NotOkStatusException\u001b[0m \u001b[1;32mas\u001b[0m \u001b[0me\u001b[0m\u001b[1;33m:\u001b[0m\u001b[1;33m\u001b[0m\u001b[1;33m\u001b[0m\u001b[0m\n\u001b[0;32m     62\u001b[0m     \u001b[1;32mif\u001b[0m \u001b[0mname\u001b[0m \u001b[1;32mis\u001b[0m \u001b[1;32mnot\u001b[0m \u001b[1;32mNone\u001b[0m\u001b[1;33m:\u001b[0m\u001b[1;33m\u001b[0m\u001b[1;33m\u001b[0m\u001b[0m\n",
      "\u001b[1;31mKeyboardInterrupt\u001b[0m: "
     ]
    }
   ],
   "source": [
    "epochs = 9\n",
    "\n",
    "tensorboard=TensorBoard(log_dir='./logs', write_graph=True, write_images=True)\n",
    "early_stopping=EarlyStopping(monitor='val_loss')  \n",
    "\n",
    "\n",
    "history = model.fit(x_train, y_train,\n",
    "                    batch_size=1000,\n",
    "                    epochs=epochs,\n",
    "                    verbose=1,\n",
    "                    validation_split=0.01)"
   ]
  },
  {
   "cell_type": "markdown",
   "metadata": {
    "heading_collapsed": true,
    "hidden": true
   },
   "source": [
    "##### roc_auc"
   ]
  },
  {
   "cell_type": "code",
   "execution_count": 914,
   "metadata": {
    "ExecuteTime": {
     "end_time": "2020-12-13T20:58:24.193613Z",
     "start_time": "2020-12-13T20:58:23.020628Z"
    },
    "hidden": true
   },
   "outputs": [
    {
     "name": "stdout",
     "output_type": "stream",
     "text": [
      "4/4 [==============================] - 1s 174ms/step\n"
     ]
    },
    {
     "data": {
      "text/plain": [
       "0.9509003083819485"
      ]
     },
     "execution_count": 914,
     "metadata": {},
     "output_type": "execute_result"
    }
   ],
   "source": [
    "results = model.predict(x_val, batch_size=batch_size, verbose=1)\n",
    "\n",
    "results\n",
    "\n",
    "roc_auc_score([val[1] for val in y_val], [val[1] for val in results])"
   ]
  },
  {
   "cell_type": "markdown",
   "metadata": {
    "heading_collapsed": true
   },
   "source": [
    "### 2. Берём предобученный word2vec и его эмбедингами инициализируем нейросеть, как влияет на качество?"
   ]
  },
  {
   "cell_type": "markdown",
   "metadata": {
    "heading_collapsed": true,
    "hidden": true
   },
   "source": [
    "##### Обучаем word2vec"
   ]
  },
  {
   "cell_type": "code",
   "execution_count": 977,
   "metadata": {
    "ExecuteTime": {
     "end_time": "2020-12-13T21:14:34.128426Z",
     "start_time": "2020-12-13T21:14:34.116191Z"
    },
    "hidden": true
   },
   "outputs": [
    {
     "data": {
      "text/plain": [
       "TensorShape([250, 328])"
      ]
     },
     "execution_count": 977,
     "metadata": {},
     "output_type": "execute_result"
    }
   ],
   "source": [
    "model.layers[0].weights[0].shape"
   ]
  },
  {
   "cell_type": "code",
   "execution_count": 948,
   "metadata": {
    "ExecuteTime": {
     "end_time": "2020-12-13T21:08:45.800829Z",
     "start_time": "2020-12-13T21:08:45.789824Z"
    },
    "hidden": true
   },
   "outputs": [],
   "source": [
    "from sklearn.feature_extraction.text import TfidfVectorizer\n",
    "from sklearn.linear_model import LogisticRegression\n",
    "\n",
    "from sklearn.metrics import accuracy_score "
   ]
  },
  {
   "cell_type": "code",
   "execution_count": 949,
   "metadata": {
    "ExecuteTime": {
     "end_time": "2020-12-13T21:08:45.848823Z",
     "start_time": "2020-12-13T21:08:45.815819Z"
    },
    "hidden": true
   },
   "outputs": [],
   "source": [
    "vect = TfidfVectorizer(ngram_range=(1, 2), analyzer='word', lowercase=False)"
   ]
  },
  {
   "cell_type": "code",
   "execution_count": 950,
   "metadata": {
    "ExecuteTime": {
     "end_time": "2020-12-13T21:08:47.006837Z",
     "start_time": "2020-12-13T21:08:45.854825Z"
    },
    "hidden": true
   },
   "outputs": [],
   "source": [
    "train_ft = vect.fit_transform(df_train['text'])\n",
    "valid_ft = vect.transform(df_val['text'])"
   ]
  },
  {
   "cell_type": "code",
   "execution_count": 955,
   "metadata": {
    "ExecuteTime": {
     "end_time": "2020-12-13T21:08:47.417194Z",
     "start_time": "2020-12-13T21:08:47.392821Z"
    },
    "hidden": true
   },
   "outputs": [],
   "source": [
    "from gensim.models import Word2Vec"
   ]
  },
  {
   "cell_type": "code",
   "execution_count": 956,
   "metadata": {
    "ExecuteTime": {
     "end_time": "2020-12-13T21:08:49.358835Z",
     "start_time": "2020-12-13T21:08:47.427821Z"
    },
    "hidden": true
   },
   "outputs": [],
   "source": [
    "modelW2V = Word2Vec(sentences=df_train['text'].apply(str.split), size=328, window=5, min_count=5, workers=8)"
   ]
  },
  {
   "cell_type": "code",
   "execution_count": 958,
   "metadata": {
    "ExecuteTime": {
     "end_time": "2020-12-13T21:08:50.089915Z",
     "start_time": "2020-12-13T21:08:49.594820Z"
    },
    "hidden": true
   },
   "outputs": [],
   "source": [
    "vect_idf = TfidfVectorizer()\n",
    "vect_idf.fit_transform(df_train['text'])\n",
    "tfidf = dict(zip(vect_idf.get_feature_names(), vect_idf.idf_))"
   ]
  },
  {
   "cell_type": "code",
   "execution_count": 960,
   "metadata": {
    "ExecuteTime": {
     "end_time": "2020-12-13T21:08:50.279815Z",
     "start_time": "2020-12-13T21:08:50.259820Z"
    },
    "hidden": true
   },
   "outputs": [],
   "source": [
    "rt = vect_idf.vocabulary_.items()"
   ]
  },
  {
   "cell_type": "code",
   "execution_count": 961,
   "metadata": {
    "ExecuteTime": {
     "end_time": "2020-12-13T21:08:50.295818Z",
     "start_time": "2020-12-13T21:08:50.284822Z"
    },
    "hidden": true
   },
   "outputs": [
    {
     "data": {
      "text/plain": [
       "11523"
      ]
     },
     "execution_count": 961,
     "metadata": {},
     "output_type": "execute_result"
    }
   ],
   "source": [
    "len(tfidf)"
   ]
  },
  {
   "cell_type": "code",
   "execution_count": 962,
   "metadata": {
    "ExecuteTime": {
     "end_time": "2020-12-13T21:08:50.311818Z",
     "start_time": "2020-12-13T21:08:50.301821Z"
    },
    "hidden": true
   },
   "outputs": [],
   "source": [
    "from collections import defaultdict"
   ]
  },
  {
   "cell_type": "code",
   "execution_count": 963,
   "metadata": {
    "ExecuteTime": {
     "end_time": "2020-12-13T21:08:54.710924Z",
     "start_time": "2020-12-13T21:08:50.317820Z"
    },
    "hidden": true
   },
   "outputs": [],
   "source": [
    "max_idf = max(vect_idf.idf_)\n",
    "\n",
    "word2weight = defaultdict(\n",
    "    lambda: max_idf,\n",
    "    [(w, vect_idf.idf_[i]) for w, i in vect_idf.vocabulary_.items()])"
   ]
  },
  {
   "cell_type": "code",
   "execution_count": 964,
   "metadata": {
    "ExecuteTime": {
     "end_time": "2020-12-13T21:08:54.726944Z",
     "start_time": "2020-12-13T21:08:54.715204Z"
    },
    "hidden": true
   },
   "outputs": [],
   "source": [
    "def get_vect_mean(txt):\n",
    "    vector_w2v = np.zeros(328)\n",
    "    n_w2v = 0\n",
    "    for wrd in txt.split():\n",
    "        if wrd in modelW2V:\n",
    "            vector_w2v += modelW2V[wrd]\n",
    "            n_w2v += 1\n",
    "    if n_w2v > 0:\n",
    "        vector_w2v = vector_w2v / n_w2v\n",
    "    return vector_w2v\n",
    "\n",
    "def get_vect_idf(txt):\n",
    "    vector_w2v = np.zeros(128)\n",
    "    n_w2v = 0\n",
    "    for wrd in txt.split():\n",
    "        if wrd in modelW2V:\n",
    "            iddf_ = tfidf.get(wrd, 1.)\n",
    "            vector_w2v += modelW2V[wrd]*iddf_\n",
    "            n_w2v += iddf_\n",
    "    if n_w2v > 0:\n",
    "        vector_w2v = vector_w2v / n_w2v\n",
    "    return vector_w2v"
   ]
  },
  {
   "cell_type": "code",
   "execution_count": 965,
   "metadata": {
    "ExecuteTime": {
     "end_time": "2020-12-13T21:08:54.757820Z",
     "start_time": "2020-12-13T21:08:54.732819Z"
    },
    "hidden": true
   },
   "outputs": [],
   "source": [
    "from tqdm import tqdm_notebook"
   ]
  },
  {
   "cell_type": "code",
   "execution_count": 966,
   "metadata": {
    "ExecuteTime": {
     "end_time": "2020-12-13T21:08:58.271109Z",
     "start_time": "2020-12-13T21:08:54.763825Z"
    },
    "hidden": true
   },
   "outputs": [
    {
     "name": "stderr",
     "output_type": "stream",
     "text": [
      "C:\\Users\\Mihail\\Anaconda3\\lib\\site-packages\\ipykernel_launcher.py:2: TqdmDeprecationWarning: This function will be removed in tqdm==5.0.0\n",
      "Please use `tqdm.notebook.tqdm` instead of `tqdm.tqdm_notebook`\n",
      "  \n"
     ]
    },
    {
     "data": {
      "application/vnd.jupyter.widget-view+json": {
       "model_id": "85481893254c4fd0b49f50e658c5ac63",
       "version_major": 2,
       "version_minor": 0
      },
      "text/plain": [
       "HBox(children=(FloatProgress(value=0.0, max=17755.0), HTML(value='')))"
      ]
     },
     "metadata": {},
     "output_type": "display_data"
    },
    {
     "name": "stderr",
     "output_type": "stream",
     "text": [
      "C:\\Users\\Mihail\\Anaconda3\\lib\\site-packages\\ipykernel_launcher.py:5: DeprecationWarning: Call to deprecated `__contains__` (Method will be removed in 4.0.0, use self.wv.__contains__() instead).\n",
      "  \"\"\"\n",
      "C:\\Users\\Mihail\\Anaconda3\\lib\\site-packages\\ipykernel_launcher.py:6: DeprecationWarning: Call to deprecated `__getitem__` (Method will be removed in 4.0.0, use self.wv.__getitem__() instead).\n",
      "  \n"
     ]
    },
    {
     "name": "stdout",
     "output_type": "stream",
     "text": [
      "\n"
     ]
    },
    {
     "name": "stderr",
     "output_type": "stream",
     "text": [
      "C:\\Users\\Mihail\\Anaconda3\\lib\\site-packages\\ipykernel_launcher.py:6: TqdmDeprecationWarning: This function will be removed in tqdm==5.0.0\n",
      "Please use `tqdm.notebook.tqdm` instead of `tqdm.tqdm_notebook`\n",
      "  \n"
     ]
    },
    {
     "data": {
      "application/vnd.jupyter.widget-view+json": {
       "model_id": "24d955339c6f4a20aeadd67c649fff42",
       "version_major": 2,
       "version_minor": 0
      },
      "text/plain": [
       "HBox(children=(FloatProgress(value=0.0, max=1973.0), HTML(value='')))"
      ]
     },
     "metadata": {},
     "output_type": "display_data"
    },
    {
     "name": "stdout",
     "output_type": "stream",
     "text": [
      "\n"
     ]
    }
   ],
   "source": [
    "arr_vect = []\n",
    "for txt in tqdm_notebook(df_train['text']):\n",
    "    arr_vect.append(get_vect_mean(txt))\n",
    "    \n",
    "arr_vect_valid = []\n",
    "for txt in tqdm_notebook(df_val['text']):\n",
    "    arr_vect_valid.append(get_vect_mean(txt))\n",
    "    \n",
    "train_w2v = np.asarray(arr_vect)    \n",
    "valid_w2v = np.asarray(arr_vect_valid)"
   ]
  },
  {
   "cell_type": "code",
   "execution_count": 967,
   "metadata": {
    "ExecuteTime": {
     "end_time": "2020-12-13T21:08:58.302826Z",
     "start_time": "2020-12-13T21:08:58.278820Z"
    },
    "hidden": true
   },
   "outputs": [
    {
     "data": {
      "text/plain": [
       "(17755, 328)"
      ]
     },
     "execution_count": 967,
     "metadata": {},
     "output_type": "execute_result"
    }
   ],
   "source": [
    "train_w2v.shape"
   ]
  },
  {
   "cell_type": "code",
   "execution_count": 968,
   "metadata": {
    "ExecuteTime": {
     "end_time": "2020-12-13T21:08:58.318831Z",
     "start_time": "2020-12-13T21:08:58.310823Z"
    },
    "hidden": true
   },
   "outputs": [],
   "source": [
    "train_w2v = train_w2v[:250]"
   ]
  },
  {
   "cell_type": "code",
   "execution_count": 969,
   "metadata": {
    "ExecuteTime": {
     "end_time": "2020-12-13T21:08:58.349821Z",
     "start_time": "2020-12-13T21:08:58.326818Z"
    },
    "hidden": true
   },
   "outputs": [
    {
     "data": {
      "text/plain": [
       "(250, 328)"
      ]
     },
     "execution_count": 969,
     "metadata": {},
     "output_type": "execute_result"
    }
   ],
   "source": [
    "train_w2v.shape"
   ]
  },
  {
   "cell_type": "markdown",
   "metadata": {
    "heading_collapsed": true,
    "hidden": true
   },
   "source": [
    "##### Инициализируем модель обученными w2v эмбеддингами."
   ]
  },
  {
   "cell_type": "code",
   "execution_count": 992,
   "metadata": {
    "ExecuteTime": {
     "end_time": "2020-12-13T21:20:46.459947Z",
     "start_time": "2020-12-13T21:20:46.447139Z"
    },
    "hidden": true
   },
   "outputs": [],
   "source": [
    "model.layers[0].set_weights([train_w2v])"
   ]
  },
  {
   "cell_type": "code",
   "execution_count": 993,
   "metadata": {
    "ExecuteTime": {
     "end_time": "2020-12-13T21:20:48.468952Z",
     "start_time": "2020-12-13T21:20:47.364081Z"
    },
    "hidden": true
   },
   "outputs": [
    {
     "name": "stdout",
     "output_type": "stream",
     "text": [
      "4/4 [==============================] - 1s 170ms/step\n"
     ]
    },
    {
     "data": {
      "text/plain": [
       "0.7696086807928912"
      ]
     },
     "execution_count": 993,
     "metadata": {},
     "output_type": "execute_result"
    }
   ],
   "source": [
    "results = model.predict_proba(x_val, batch_size=batch_size, verbose=1)\n",
    "\n",
    "roc_auc_score([val[1] for val in y_val], [val[1] for val in results])"
   ]
  },
  {
   "cell_type": "markdown",
   "metadata": {
    "heading_collapsed": true,
    "hidden": true
   },
   "source": [
    "##### Инициализируем слой эмбеддинга нейросети рандомными значениями."
   ]
  },
  {
   "cell_type": "code",
   "execution_count": 982,
   "metadata": {
    "ExecuteTime": {
     "end_time": "2020-12-13T21:18:24.574504Z",
     "start_time": "2020-12-13T21:18:24.551500Z"
    },
    "hidden": true
   },
   "outputs": [],
   "source": [
    "model.layers[0].set_weights([np.random.rand(250, 328)])"
   ]
  },
  {
   "cell_type": "code",
   "execution_count": 987,
   "metadata": {
    "ExecuteTime": {
     "end_time": "2020-12-13T21:20:06.378705Z",
     "start_time": "2020-12-13T21:19:54.118009Z"
    },
    "hidden": true
   },
   "outputs": [
    {
     "name": "stdout",
     "output_type": "stream",
     "text": [
      "WARNING:tensorflow:From <ipython-input-987-da006a710bf3>:4: Sequential.predict_proba (from tensorflow.python.keras.engine.sequential) is deprecated and will be removed after 2021-01-01.\n",
      "Instructions for updating:\n",
      "Please use `model.predict()` instead.\n",
      "4/4 [==============================] - 1s 184ms/step\n",
      "0.47309\n",
      "4/4 [==============================] - 1s 180ms/step\n",
      "0.22963\n",
      "4/4 [==============================] - 1s 237ms/step\n",
      "0.21989\n",
      "4/4 [==============================] - 1s 190ms/step\n",
      "0.21703\n",
      "4/4 [==============================] - 1s 182ms/step\n",
      "0.32181\n",
      "4/4 [==============================] - 1s 182ms/step\n",
      "0.36409\n",
      "4/4 [==============================] - 1s 239ms/step\n",
      "0.29368\n",
      "4/4 [==============================] - 1s 197ms/step\n",
      "0.26463\n",
      "4/4 [==============================] - 1s 187ms/step\n",
      "0.21028\n",
      "4/4 [==============================] - 1s 229ms/step\n",
      "0.31957\n"
     ]
    }
   ],
   "source": [
    "for ind in range(10):\n",
    "    model.layers[0].set_weights([np.random.rand(250, 328)])\n",
    "\n",
    "    results = model.predict_proba(x_val, batch_size=batch_size, verbose=1)\n",
    "\n",
    "    print(round(roc_auc_score([val[1] for val in y_val], [val[1] for val in results]), 5))"
   ]
  },
  {
   "cell_type": "markdown",
   "metadata": {
    "heading_collapsed": true,
    "hidden": true
   },
   "source": [
    "##### Инициализируем нейросеть эмбеддингами w2v и обучим."
   ]
  },
  {
   "cell_type": "code",
   "execution_count": 995,
   "metadata": {
    "ExecuteTime": {
     "end_time": "2020-12-13T21:30:02.451037Z",
     "start_time": "2020-12-13T21:30:02.185032Z"
    },
    "hidden": true
   },
   "outputs": [],
   "source": [
    "model = Sequential()\n",
    "model.add(Embedding(input_dim=250, output_dim=328, input_length=max_len))\n",
    "model.add(Conv1D(147, 3))\n",
    "model.add(Activation(activations.relu))\n",
    "# model.add(Dropout(0.025))\n",
    "model.add(Conv1D(147, 3))\n",
    "model.add(Activation(activations.relu))\n",
    "# model.add(Dropout(0.025))\n",
    "model.add(Conv1D(147, 3))\n",
    "model.add(Activation(activations.relu))\n",
    "# model.add(Dropout(0.025))\n",
    "\n",
    "\n",
    "# model.add(Conv1D(64, 3))\n",
    "# model.add(Activation(activations.tanh))\n",
    "\n",
    "\n",
    "\n",
    "model.add(GlobalMaxPool1D())\n",
    "\n",
    "model.add(Dense(128))\n",
    "model.add(Activation(\"relu\"))\n",
    "model.add(Dense(num_classes))\n",
    "model.add(Activation('softmax'))"
   ]
  },
  {
   "cell_type": "code",
   "execution_count": 996,
   "metadata": {
    "ExecuteTime": {
     "end_time": "2020-12-13T21:30:04.766580Z",
     "start_time": "2020-12-13T21:30:04.745364Z"
    },
    "hidden": true
   },
   "outputs": [],
   "source": [
    "model.layers[0].set_weights([train_w2v])"
   ]
  },
  {
   "cell_type": "code",
   "execution_count": 997,
   "metadata": {
    "ExecuteTime": {
     "end_time": "2020-12-13T21:30:06.880991Z",
     "start_time": "2020-12-13T21:30:06.848368Z"
    },
    "hidden": true
   },
   "outputs": [],
   "source": [
    "model.compile(loss='categorical_crossentropy',\n",
    "              optimizer=K.optimizers.Adam(learning_rate=0.0045),\n",
    "              metrics=['accuracy'])"
   ]
  },
  {
   "cell_type": "code",
   "execution_count": 1000,
   "metadata": {
    "ExecuteTime": {
     "end_time": "2020-12-13T21:33:44.205726Z",
     "start_time": "2020-12-13T21:32:16.277874Z"
    },
    "hidden": true
   },
   "outputs": [
    {
     "name": "stdout",
     "output_type": "stream",
     "text": [
      "Epoch 1/3\n",
      "18/18 [==============================] - 26s 1s/step - loss: 0.1951 - accuracy: 0.9181 - val_loss: 0.1842 - val_accuracy: 0.9157\n",
      "Epoch 2/3\n",
      "18/18 [==============================] - 29s 2s/step - loss: 0.1917 - accuracy: 0.9207 - val_loss: 0.1881 - val_accuracy: 0.8933\n",
      "Epoch 3/3\n",
      "18/18 [==============================] - 27s 2s/step - loss: 0.1922 - accuracy: 0.9201 - val_loss: 0.1904 - val_accuracy: 0.8764\n"
     ]
    }
   ],
   "source": [
    "epochs = 3\n",
    "\n",
    "tensorboard=TensorBoard(log_dir='./logs', write_graph=True, write_images=True)\n",
    "early_stopping=EarlyStopping(monitor='val_loss')  \n",
    "\n",
    "\n",
    "history = model.fit(x_train, y_train,\n",
    "                    batch_size=1000,\n",
    "                    epochs=epochs,\n",
    "                    verbose=1,\n",
    "                    validation_split=0.01)"
   ]
  },
  {
   "cell_type": "code",
   "execution_count": 1001,
   "metadata": {
    "ExecuteTime": {
     "end_time": "2020-12-13T21:33:45.512140Z",
     "start_time": "2020-12-13T21:33:44.212730Z"
    },
    "hidden": true
   },
   "outputs": [
    {
     "name": "stdout",
     "output_type": "stream",
     "text": [
      "4/4 [==============================] - 1s 199ms/step\n"
     ]
    },
    {
     "data": {
      "text/plain": [
       "0.9441961801967922"
      ]
     },
     "execution_count": 1001,
     "metadata": {},
     "output_type": "execute_result"
    }
   ],
   "source": [
    "results = model.predict_proba(x_val, batch_size=batch_size, verbose=1)\n",
    "\n",
    "roc_auc_score([val[1] for val in y_val], [val[1] for val in results])"
   ]
  },
  {
   "cell_type": "markdown",
   "metadata": {
    "heading_collapsed": true,
    "hidden": true
   },
   "source": [
    "##### Инициализируем нейросеть эмбеддингами w2v, заморозим слой и обучим нейросеть."
   ]
  },
  {
   "cell_type": "code",
   "execution_count": 1002,
   "metadata": {
    "ExecuteTime": {
     "end_time": "2020-12-13T21:34:27.322723Z",
     "start_time": "2020-12-13T21:34:27.043307Z"
    },
    "hidden": true
   },
   "outputs": [],
   "source": [
    "model = Sequential()\n",
    "model.add(Embedding(input_dim=250, output_dim=328, input_length=max_len))\n",
    "model.add(Conv1D(147, 3))\n",
    "model.add(Activation(activations.relu))\n",
    "# model.add(Dropout(0.025))\n",
    "model.add(Conv1D(147, 3))\n",
    "model.add(Activation(activations.relu))\n",
    "# model.add(Dropout(0.025))\n",
    "model.add(Conv1D(147, 3))\n",
    "model.add(Activation(activations.relu))\n",
    "# model.add(Dropout(0.025))\n",
    "\n",
    "\n",
    "# model.add(Conv1D(64, 3))\n",
    "# model.add(Activation(activations.tanh))\n",
    "\n",
    "\n",
    "\n",
    "model.add(GlobalMaxPool1D())\n",
    "\n",
    "model.add(Dense(128))\n",
    "model.add(Activation(\"relu\"))\n",
    "model.add(Dense(num_classes))\n",
    "model.add(Activation('softmax'))"
   ]
  },
  {
   "cell_type": "code",
   "execution_count": 1003,
   "metadata": {
    "ExecuteTime": {
     "end_time": "2020-12-13T21:34:28.463728Z",
     "start_time": "2020-12-13T21:34:28.454869Z"
    },
    "hidden": true
   },
   "outputs": [],
   "source": [
    "model.layers[0].set_weights([train_w2v])\n",
    "model.layers[0].trainable = False"
   ]
  },
  {
   "cell_type": "code",
   "execution_count": 1004,
   "metadata": {
    "ExecuteTime": {
     "end_time": "2020-12-13T21:34:31.384725Z",
     "start_time": "2020-12-13T21:34:31.350729Z"
    },
    "hidden": true
   },
   "outputs": [],
   "source": [
    "model.compile(loss='categorical_crossentropy',\n",
    "              optimizer=K.optimizers.Adam(learning_rate=0.0045),\n",
    "              metrics=['accuracy'])"
   ]
  },
  {
   "cell_type": "code",
   "execution_count": 1007,
   "metadata": {
    "ExecuteTime": {
     "end_time": "2020-12-13T21:37:10.501222Z",
     "start_time": "2020-12-13T21:35:53.679223Z"
    },
    "hidden": true
   },
   "outputs": [
    {
     "name": "stdout",
     "output_type": "stream",
     "text": [
      "Epoch 1/3\n",
      "18/18 [==============================] - 27s 1s/step - loss: 0.3435 - accuracy: 0.8586 - val_loss: 0.3555 - val_accuracy: 0.8539\n",
      "Epoch 2/3\n",
      "18/18 [==============================] - 24s 1s/step - loss: 0.3423 - accuracy: 0.8608 - val_loss: 0.3616 - val_accuracy: 0.8539\n",
      "Epoch 3/3\n",
      "18/18 [==============================] - 22s 1s/step - loss: 0.3425 - accuracy: 0.8581 - val_loss: 0.3607 - val_accuracy: 0.8708\n"
     ]
    }
   ],
   "source": [
    "epochs = 3\n",
    "\n",
    "tensorboard=TensorBoard(log_dir='./logs', write_graph=True, write_images=True)\n",
    "early_stopping=EarlyStopping(monitor='val_loss')  \n",
    "\n",
    "\n",
    "history = model.fit(x_train, y_train,\n",
    "                    batch_size=1000,\n",
    "                    epochs=epochs,\n",
    "                    verbose=1,\n",
    "                    validation_split=0.01)"
   ]
  },
  {
   "cell_type": "code",
   "execution_count": 1008,
   "metadata": {
    "ExecuteTime": {
     "end_time": "2020-12-13T21:37:11.786226Z",
     "start_time": "2020-12-13T21:37:10.510227Z"
    },
    "hidden": true
   },
   "outputs": [
    {
     "name": "stdout",
     "output_type": "stream",
     "text": [
      "4/4 [==============================] - 1s 182ms/step\n"
     ]
    },
    {
     "data": {
      "text/plain": [
       "0.792171032761608"
      ]
     },
     "execution_count": 1008,
     "metadata": {},
     "output_type": "execute_result"
    }
   ],
   "source": [
    "results = model.predict_proba(x_val, batch_size=batch_size, verbose=1)\n",
    "\n",
    "roc_auc_score([val[1] for val in y_val], [val[1] for val in results])"
   ]
  },
  {
   "cell_type": "markdown",
   "metadata": {
    "hidden": true
   },
   "source": [
    "Разморозим слой, дообучим сеть."
   ]
  },
  {
   "cell_type": "code",
   "execution_count": 1010,
   "metadata": {
    "ExecuteTime": {
     "end_time": "2020-12-13T21:38:07.457739Z",
     "start_time": "2020-12-13T21:38:07.441704Z"
    },
    "hidden": true
   },
   "outputs": [],
   "source": [
    "model.layers[0].trainable = True"
   ]
  },
  {
   "cell_type": "code",
   "execution_count": 1018,
   "metadata": {
    "ExecuteTime": {
     "end_time": "2020-12-13T21:49:26.857048Z",
     "start_time": "2020-12-13T21:45:14.639663Z"
    },
    "hidden": true
   },
   "outputs": [
    {
     "name": "stdout",
     "output_type": "stream",
     "text": [
      "Epoch 1/10\n",
      "18/18 [==============================] - 21s 1s/step - loss: 0.3227 - accuracy: 0.8713 - val_loss: 0.3504 - val_accuracy: 0.8539\n",
      "Epoch 2/10\n",
      "18/18 [==============================] - 25s 1s/step - loss: 0.3186 - accuracy: 0.8712 - val_loss: 0.3339 - val_accuracy: 0.8652\n",
      "Epoch 3/10\n",
      "18/18 [==============================] - 25s 1s/step - loss: 0.3173 - accuracy: 0.8708 - val_loss: 0.3281 - val_accuracy: 0.8764\n",
      "Epoch 4/10\n",
      "18/18 [==============================] - 25s 1s/step - loss: 0.3179 - accuracy: 0.8734 - val_loss: 0.3395 - val_accuracy: 0.8708\n",
      "Epoch 5/10\n",
      "18/18 [==============================] - 24s 1s/step - loss: 0.3123 - accuracy: 0.8755 - val_loss: 0.3193 - val_accuracy: 0.8596\n",
      "Epoch 6/10\n",
      "18/18 [==============================] - 24s 1s/step - loss: 0.3093 - accuracy: 0.8754 - val_loss: 0.3215 - val_accuracy: 0.8596\n",
      "Epoch 7/10\n",
      "18/18 [==============================] - 24s 1s/step - loss: 0.3059 - accuracy: 0.8763 - val_loss: 0.3097 - val_accuracy: 0.8652\n",
      "Epoch 8/10\n",
      "18/18 [==============================] - 25s 1s/step - loss: 0.3004 - accuracy: 0.8792 - val_loss: 0.3130 - val_accuracy: 0.8764\n",
      "Epoch 9/10\n",
      "18/18 [==============================] - 22s 1s/step - loss: 0.3019 - accuracy: 0.8788 - val_loss: 0.3174 - val_accuracy: 0.8652\n",
      "Epoch 10/10\n",
      "18/18 [==============================] - 23s 1s/step - loss: 0.3020 - accuracy: 0.8788 - val_loss: 0.3059 - val_accuracy: 0.8764\n"
     ]
    }
   ],
   "source": [
    "epochs = 10\n",
    "\n",
    "tensorboard=TensorBoard(log_dir='./logs', write_graph=True, write_images=True)\n",
    "early_stopping=EarlyStopping(monitor='val_loss')  \n",
    "\n",
    "\n",
    "history = model.fit(x_train, y_train,\n",
    "                    batch_size=1000,\n",
    "                    epochs=epochs,\n",
    "                    verbose=1,\n",
    "                    validation_split=0.01)"
   ]
  },
  {
   "cell_type": "code",
   "execution_count": 1019,
   "metadata": {
    "ExecuteTime": {
     "end_time": "2020-12-13T21:49:28.232048Z",
     "start_time": "2020-12-13T21:49:26.864051Z"
    },
    "hidden": true
   },
   "outputs": [
    {
     "name": "stdout",
     "output_type": "stream",
     "text": [
      "4/4 [==============================] - 1s 185ms/step\n"
     ]
    },
    {
     "data": {
      "text/plain": [
       "0.8601720342081418"
      ]
     },
     "execution_count": 1019,
     "metadata": {},
     "output_type": "execute_result"
    }
   ],
   "source": [
    "results = model.predict_proba(x_val, batch_size=batch_size, verbose=1)\n",
    "\n",
    "roc_auc_score([val[1] for val in y_val], [val[1] for val in results])"
   ]
  },
  {
   "cell_type": "markdown",
   "metadata": {
    "ExecuteTime": {
     "end_time": "2020-12-13T21:23:12.834710Z",
     "start_time": "2020-12-13T21:23:12.817707Z"
    },
    "heading_collapsed": true,
    "hidden": true
   },
   "source": [
    "##### Вывод по использованию w2v при инициализации слоя эмбеддинга."
   ]
  },
  {
   "cell_type": "markdown",
   "metadata": {
    "hidden": true
   },
   "source": [
    "КОММЕНТАРИИ:"
   ]
  },
  {
   "cell_type": "markdown",
   "metadata": {
    "hidden": true
   },
   "source": [
    "Уже во второй домашней работе просят инициализировать эмбеддинг нейросети эмбеддингами, обученными через word2vec и во второй раз это ухудшает качество работы сети. С одной стороны ожидаемо, что ухудшает - все-таки в \"сработавшуюся\" нейросеть засовывают чужеродные веса. С другой стороны второй раз фигурирует этот вопрос, как будто бы ожидается, что качество должно вырасти.\n",
    "\n",
    "Плюс у меня нет уверенности, что корректно инициализирую, так что, возможно, если все делать правильно, то качество действительно должно улучшиться.\n",
    "\n",
    "По факту имеем: нейросеть инициализированная рандомными эмбеддингами учится хорошо и до приличных 0.95 по ROC AUC, инициализированная w2v векторами нейросеть сходу выдает 0.76, для сравнения рандомная инициализация эмбедингов выдает в районе 0,3 ROC AUC. Если попробовать заморозить слой эмбеддинга после этого и продолжить обучение, нейросеть не уходит далеко от 0,76 изначальных по ROC AUC, хотя как показал опыт, после размораживания слоя нейросеть начинает повышать качество при дальнейшем обучении, но делает это намного медленней, чем при рандомных эмбеддингах изначальных."
   ]
  },
  {
   "cell_type": "markdown",
   "metadata": {
    "hidden": true
   },
   "source": [
    "ВЫВОДЫ:"
   ]
  },
  {
   "cell_type": "markdown",
   "metadata": {
    "hidden": true
   },
   "source": [
    "- Способ инициализации весов нейросети влияет на скорость и характер её дальнейшего обучения.\n",
    "- Использование word2vec обученных эмбеддингов при использовании нейросетевых моделей не оправдано."
   ]
  }
 ],
 "metadata": {
  "colab": {
   "collapsed_sections": [],
   "name": "dl-nlp-cnn1.ipynb",
   "provenance": []
  },
  "hide_input": false,
  "kernelspec": {
   "display_name": "Python 3",
   "language": "python",
   "name": "python3"
  },
  "language_info": {
   "codemirror_mode": {
    "name": "ipython",
    "version": 3
   },
   "file_extension": ".py",
   "mimetype": "text/x-python",
   "name": "python",
   "nbconvert_exporter": "python",
   "pygments_lexer": "ipython3",
   "version": "3.7.3"
  },
  "toc": {
   "base_numbering": 1,
   "nav_menu": {},
   "number_sections": false,
   "sideBar": true,
   "skip_h1_title": false,
   "title_cell": "Menu",
   "title_sidebar": "Menu",
   "toc_cell": false,
   "toc_position": {},
   "toc_section_display": true,
   "toc_window_display": true
  }
 },
 "nbformat": 4,
 "nbformat_minor": 1
}
