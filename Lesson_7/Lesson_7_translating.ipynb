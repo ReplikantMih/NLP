{
  "nbformat": 4,
  "nbformat_minor": 0,
  "metadata": {
    "accelerator": "GPU",
    "colab": {
      "name": "nmt.ipynb",
      "provenance": [],
      "collapsed_sections": [],
      "toc_visible": true
    },
    "hide_input": false,
    "kernelspec": {
      "display_name": "Python 3",
      "language": "python",
      "name": "python3"
    },
    "language_info": {
      "codemirror_mode": {
        "name": "ipython",
        "version": 3
      },
      "file_extension": ".py",
      "mimetype": "text/x-python",
      "name": "python",
      "nbconvert_exporter": "python",
      "pygments_lexer": "ipython3",
      "version": "3.7.3"
    },
    "toc": {
      "base_numbering": 1,
      "nav_menu": {},
      "number_sections": false,
      "sideBar": true,
      "skip_h1_title": false,
      "title_cell": "Menu",
      "title_sidebar": "Menu",
      "toc_cell": false,
      "toc_position": {},
      "toc_section_display": true,
      "toc_window_display": true
    }
  },
  "cells": [
    {
      "cell_type": "markdown",
      "metadata": {
        "id": "J0Qjg6vuaHNt"
      },
      "source": [
        "# Neural machine translation"
      ]
    },
    {
      "cell_type": "code",
      "metadata": {
        "id": "tnxXKDjq3jEL"
      },
      "source": [
        "import tensorflow as tf\n",
        "\n",
        "import matplotlib.pyplot as plt\n",
        "import matplotlib.ticker as ticker\n",
        "from sklearn.model_selection import train_test_split\n",
        "\n",
        "import unicodedata\n",
        "import re\n",
        "import numpy as np\n",
        "import os\n",
        "import io\n",
        "import time"
      ],
      "execution_count": 2,
      "outputs": []
    },
    {
      "cell_type": "markdown",
      "metadata": {
        "id": "wfodePkj3jEa"
      },
      "source": [
        "## Download and prepare the dataset\n",
        "\n",
        "We'll use a language dataset provided by http://www.manythings.org/anki/"
      ]
    },
    {
      "cell_type": "code",
      "metadata": {
        "colab": {
          "base_uri": "https://localhost:8080/"
        },
        "id": "CNvjhDyAKk3U",
        "outputId": "5346684b-3043-4df0-a12d-50c881c989fd"
      },
      "source": [
        "!wget http://www.manythings.org/anki/rus-eng.zip"
      ],
      "execution_count": 3,
      "outputs": [
        {
          "output_type": "stream",
          "text": [
            "--2020-12-19 19:55:24--  http://www.manythings.org/anki/rus-eng.zip\n",
            "Resolving www.manythings.org (www.manythings.org)... 172.67.173.198, 104.24.109.196, 104.24.108.196, ...\n",
            "Connecting to www.manythings.org (www.manythings.org)|172.67.173.198|:80... connected.\n",
            "HTTP request sent, awaiting response... 200 OK\n",
            "Length: 13811083 (13M) [application/zip]\n",
            "Saving to: ‘rus-eng.zip’\n",
            "\n",
            "rus-eng.zip         100%[===================>]  13.17M  4.16MB/s    in 3.3s    \n",
            "\n",
            "2020-12-19 19:55:27 (3.98 MB/s) - ‘rus-eng.zip’ saved [13811083/13811083]\n",
            "\n"
          ],
          "name": "stdout"
        }
      ]
    },
    {
      "cell_type": "code",
      "metadata": {
        "colab": {
          "base_uri": "https://localhost:8080/"
        },
        "id": "83bg17Lr-7XK",
        "outputId": "a925d245-b6e9-4dbb-e5dc-bc2e2f24f076"
      },
      "source": [
        "!mkdir rus-eng\n",
        "!unzip rus-eng.zip -d rus-eng/"
      ],
      "execution_count": 4,
      "outputs": [
        {
          "output_type": "stream",
          "text": [
            "Archive:  rus-eng.zip\n",
            "  inflating: rus-eng/rus.txt         \n",
            "  inflating: rus-eng/_about.txt      \n"
          ],
          "name": "stdout"
        }
      ]
    },
    {
      "cell_type": "code",
      "metadata": {
        "colab": {
          "base_uri": "https://localhost:8080/"
        },
        "id": "7o5L92efMMhf",
        "outputId": "db514127-0361-41d4-81c9-e17eea735e19"
      },
      "source": [
        "!ls /content/rus-eng/ -lah"
      ],
      "execution_count": 5,
      "outputs": [
        {
          "output_type": "stream",
          "text": [
            "total 66M\n",
            "drwxr-xr-x 2 root root 4.0K Dec 19 19:55 .\n",
            "drwxr-xr-x 1 root root 4.0K Dec 19 19:55 ..\n",
            "-rw-r--r-- 1 root root 1.5K Nov 22 01:35 _about.txt\n",
            "-rw-r--r-- 1 root root  66M Nov 22 01:35 rus.txt\n"
          ],
          "name": "stdout"
        }
      ]
    },
    {
      "cell_type": "code",
      "metadata": {
        "id": "kRVATYOgJs1b"
      },
      "source": [
        "# Download the file\n",
        "path_to_file = \"/content/rus-eng/rus.txt\""
      ],
      "execution_count": 6,
      "outputs": []
    },
    {
      "cell_type": "code",
      "metadata": {
        "id": "rd0jw-eC3jEh"
      },
      "source": [
        "def preprocess_sentence(w):\n",
        "  w = w.lower().strip()\n",
        "\n",
        "  # creating a space between a word and the punctuation following it\n",
        "  # eg: \"he is a boy.\" => \"he is a boy .\"\n",
        "  # Reference:- https://stackoverflow.com/questions/3645931/python-padding-punctuation-with-white-spaces-keeping-punctuation\n",
        "  w = re.sub(r\"([?.!,])\", r\" \\1 \", w)\n",
        "  w = re.sub(r'[\" \"]+', \" \", w)\n",
        "\n",
        "  # replacing everything with space except (a-z, A-Z, \".\", \"?\", \"!\", \",\")\n",
        "  w = re.sub(r\"[^a-zA-Zа-яА-Я?.!,']+\", \" \", w)\n",
        "\n",
        "  w = w.strip()\n",
        "\n",
        "  # adding a start and an end token to the sentence\n",
        "  # so that the model know when to start and stop predicting.\n",
        "  w = '<start> ' + w + ' <end>'\n",
        "  return w"
      ],
      "execution_count": 7,
      "outputs": []
    },
    {
      "cell_type": "code",
      "metadata": {
        "colab": {
          "base_uri": "https://localhost:8080/",
          "height": 35
        },
        "id": "yV9lZXQXNbnH",
        "outputId": "73547a8a-31d3-42c4-ae0e-421cf7718933"
      },
      "source": [
        "preprocess_sentence(\"I can't go.\")"
      ],
      "execution_count": 8,
      "outputs": [
        {
          "output_type": "execute_result",
          "data": {
            "application/vnd.google.colaboratory.intrinsic+json": {
              "type": "string"
            },
            "text/plain": [
              "\"<start> i can't go . <end>\""
            ]
          },
          "metadata": {
            "tags": []
          },
          "execution_count": 8
        }
      ]
    },
    {
      "cell_type": "code",
      "metadata": {
        "id": "OHn4Dct23jEm"
      },
      "source": [
        "# 1. Remove the accents\n",
        "# 2. Clean the sentences\n",
        "# 3. Return word pairs in the format: [ENGLISH, SPANISH]\n",
        "def create_dataset(path, num_examples):\n",
        "  lines = io.open(path, encoding='UTF-8').read().strip().split('\\n')\n",
        "\n",
        "  word_pairs = [[preprocess_sentence(w) for w in l.split('\\t')[:2]]  for l in lines[:num_examples]]\n",
        "\n",
        "  return zip(*word_pairs)"
      ],
      "execution_count": 9,
      "outputs": []
    },
    {
      "cell_type": "code",
      "metadata": {
        "colab": {
          "base_uri": "https://localhost:8080/"
        },
        "id": "cTbSbBz55QtF",
        "outputId": "f46abc4d-5163-4472-a231-986197e34bc1"
      },
      "source": [
        "en, ru = create_dataset(path_to_file, None)\n",
        "print(en[-1])\n",
        "print(ru[-1])"
      ],
      "execution_count": 10,
      "outputs": [
        {
          "output_type": "stream",
          "text": [
            "<start> doubtless there exists in this world precisely the right woman for any given man to marry and vice versa but when you consider that a human being has the opportunity of being acquainted with only a few hundred people , and out of the few hundred that there are but a dozen or less whom he knows intimately , and out of the dozen , one or two friends at most , it will easily be seen , when we remember the number of millions who inhabit this world , that probably , since the earth was created , the right man has never yet met the right woman . <end>\n",
            "<start> несомненно , для каждого мужчины в этом мире где то есть подходящая женщина , которая может стать ему женой , обратное верно и для женщин . но если учесть , что у человека может быть максимум несколько сотен знакомых , из которых лишь дюжина , а то и меньше , тех , кого он знает близко , а из этой дюжины у него один или от силы два друга , то можно легко увидеть , что с уч том миллионов живущих на земле людей , ни один подходящий мужчина , возможно , ещ не встретил подходящую женщину . <end>\n"
          ],
          "name": "stdout"
        }
      ]
    },
    {
      "cell_type": "code",
      "metadata": {
        "id": "bIOn8RCNDJXG"
      },
      "source": [
        "def tokenize(lang):\n",
        "  lang_tokenizer = tf.keras.preprocessing.text.Tokenizer(\n",
        "      filters='')\n",
        "  lang_tokenizer.fit_on_texts(lang)\n",
        "\n",
        "  tensor = lang_tokenizer.texts_to_sequences(lang)\n",
        "\n",
        "  tensor = tf.keras.preprocessing.sequence.pad_sequences(tensor,\n",
        "                                                         padding='post')\n",
        "\n",
        "  return tensor, lang_tokenizer"
      ],
      "execution_count": 11,
      "outputs": []
    },
    {
      "cell_type": "code",
      "metadata": {
        "id": "eAY9k49G3jE_"
      },
      "source": [
        "def load_dataset(path, num_examples=None):\n",
        "  # creating cleaned input, output pairs\n",
        "  targ_lang, inp_lang = create_dataset(path, num_examples)\n",
        "\n",
        "  input_tensor, inp_lang_tokenizer = tokenize(inp_lang)\n",
        "  target_tensor, targ_lang_tokenizer = tokenize(targ_lang)\n",
        "\n",
        "  return input_tensor, target_tensor, inp_lang_tokenizer, targ_lang_tokenizer"
      ],
      "execution_count": 12,
      "outputs": []
    },
    {
      "cell_type": "markdown",
      "metadata": {
        "id": "GOi42V79Ydlr"
      },
      "source": [
        "### Limit the size of the dataset to experiment faster (optional)\n"
      ]
    },
    {
      "cell_type": "code",
      "metadata": {
        "colab": {
          "base_uri": "https://localhost:8080/"
        },
        "id": "C8j9g9AnIeZV",
        "outputId": "083f03b3-b468-4488-fa8b-ba8305c752a4"
      },
      "source": [
        "len(en), len(ru)"
      ],
      "execution_count": 13,
      "outputs": [
        {
          "output_type": "execute_result",
          "data": {
            "text/plain": [
              "(414010, 414010)"
            ]
          },
          "metadata": {
            "tags": []
          },
          "execution_count": 13
        }
      ]
    },
    {
      "cell_type": "code",
      "metadata": {
        "id": "cnxC7q-j3jFD"
      },
      "source": [
        "# Try experimenting with the size of that dataset\n",
        "num_examples = 100000\n",
        "input_tensor, target_tensor, inp_lang, targ_lang = load_dataset(path_to_file, num_examples)\n",
        "\n",
        "# Calculate max_length of the target tensors\n",
        "max_length_targ, max_length_inp = target_tensor.shape[1], input_tensor.shape[1]"
      ],
      "execution_count": 14,
      "outputs": []
    },
    {
      "cell_type": "code",
      "metadata": {
        "colab": {
          "base_uri": "https://localhost:8080/"
        },
        "id": "4QILQkOs3jFG",
        "outputId": "d6302183-db2a-48aa-e2e8-e652c87bb7cf"
      },
      "source": [
        "# Creating training and validation sets using an 80-20 split\n",
        "input_tensor_train, input_tensor_val, target_tensor_train, target_tensor_val = train_test_split(input_tensor, target_tensor, test_size=0.2)\n",
        "\n",
        "# Show length\n",
        "print(len(input_tensor_train), len(target_tensor_train), len(input_tensor_val), len(target_tensor_val))"
      ],
      "execution_count": 15,
      "outputs": [
        {
          "output_type": "stream",
          "text": [
            "80000 80000 20000 20000\n"
          ],
          "name": "stdout"
        }
      ]
    },
    {
      "cell_type": "code",
      "metadata": {
        "id": "lJPmLZGMeD5q"
      },
      "source": [
        "def convert(lang, tensor):\n",
        "  for t in tensor:\n",
        "    if t!=0:\n",
        "      print (\"%d ----> %s\" % (t, lang.index_word[t]))"
      ],
      "execution_count": 16,
      "outputs": []
    },
    {
      "cell_type": "code",
      "metadata": {
        "colab": {
          "base_uri": "https://localhost:8080/"
        },
        "id": "VXukARTDd7MT",
        "outputId": "e010dbb9-ac84-4632-d65e-8e7efba7fa68"
      },
      "source": [
        "print (\"Input Language; index to word mapping\")\n",
        "convert(inp_lang, input_tensor_train[0])\n",
        "print ()\n",
        "print (\"Target Language; index to word mapping\")\n",
        "convert(targ_lang, target_tensor_train[0])"
      ],
      "execution_count": 17,
      "outputs": [
        {
          "output_type": "stream",
          "text": [
            "Input Language; index to word mapping\n",
            "1 ----> <start>\n",
            "103 ----> когда\n",
            "6 ----> том\n",
            "924 ----> родился\n",
            "5 ----> ?\n",
            "2 ----> <end>\n",
            "\n",
            "Target Language; index to word mapping\n",
            "1 ----> <start>\n",
            "164 ----> when\n",
            "16 ----> was\n",
            "5 ----> tom\n",
            "574 ----> born\n",
            "6 ----> ?\n",
            "2 ----> <end>\n"
          ],
          "name": "stdout"
        }
      ]
    },
    {
      "cell_type": "markdown",
      "metadata": {
        "id": "rgCLkfv5uO3d"
      },
      "source": [
        "### Create a tf.data dataset"
      ]
    },
    {
      "cell_type": "code",
      "metadata": {
        "id": "TqHsArVZ3jFS"
      },
      "source": [
        "BUFFER_SIZE = len(input_tensor_train)\n",
        "BATCH_SIZE = 64\n",
        "steps_per_epoch = len(input_tensor_train)//BATCH_SIZE\n",
        "embedding_dim = 300\n",
        "units = 1024\n",
        "vocab_inp_size = len(inp_lang.word_index)+1\n",
        "vocab_tar_size = len(targ_lang.word_index)+1\n",
        "\n",
        "dataset = tf.data.Dataset.from_tensor_slices((input_tensor_train, target_tensor_train)).shuffle(BUFFER_SIZE)\n",
        "dataset = dataset.batch(BATCH_SIZE, drop_remainder=True)"
      ],
      "execution_count": 18,
      "outputs": []
    },
    {
      "cell_type": "code",
      "metadata": {
        "colab": {
          "base_uri": "https://localhost:8080/"
        },
        "id": "qc6-NK1GtWQt",
        "outputId": "d6f87bc2-bada-4c18-c000-703b7da1a0f9"
      },
      "source": [
        "example_input_batch, example_target_batch = next(iter(dataset))\n",
        "example_input_batch.shape, example_target_batch.shape"
      ],
      "execution_count": 19,
      "outputs": [
        {
          "output_type": "execute_result",
          "data": {
            "text/plain": [
              "(TensorShape([64, 15]), TensorShape([64, 11]))"
            ]
          },
          "metadata": {
            "tags": []
          },
          "execution_count": 19
        }
      ]
    },
    {
      "cell_type": "code",
      "metadata": {
        "id": "nZ2rI24i3jFg"
      },
      "source": [
        "class Encoder(tf.keras.Model):\n",
        "  def __init__(self, vocab_size, embedding_dim, enc_units, batch_sz):\n",
        "    super(Encoder, self).__init__()\n",
        "    self.batch_sz = batch_sz\n",
        "    self.enc_units = enc_units\n",
        "    self.embedding = tf.keras.layers.Embedding(vocab_size, embedding_dim)\n",
        "    self.gru = tf.keras.layers.GRU(self.enc_units,\n",
        "                                   return_sequences=True,\n",
        "                                   return_state=True,\n",
        "                                   recurrent_initializer='glorot_uniform')\n",
        "    self.gru = tf.keras.layers.GRU(self.enc_units,\n",
        "                                   return_sequences=True,\n",
        "                                   return_state=True,\n",
        "                                   recurrent_initializer='glorot_uniform')\n",
        "    self.gru = tf.keras.layers.GRU(self.enc_units,\n",
        "                                   return_sequences=False,\n",
        "                                   return_state=True,\n",
        "                                   recurrent_initializer='glorot_uniform')\n",
        "\n",
        "  def call(self, x, hidden):\n",
        "    x = self.embedding(x)\n",
        "    output, state = self.gru(x, initial_state = hidden)\n",
        "    return state\n",
        "\n",
        "  def initialize_hidden_state(self):\n",
        "    return tf.zeros((self.batch_sz, self.enc_units))"
      ],
      "execution_count": 20,
      "outputs": []
    },
    {
      "cell_type": "code",
      "metadata": {
        "colab": {
          "base_uri": "https://localhost:8080/"
        },
        "id": "60gSVh05Jl6l",
        "outputId": "4c70c58f-e1ce-4041-b67c-ee2ae1d309bd"
      },
      "source": [
        "encoder = Encoder(vocab_inp_size, embedding_dim, units, BATCH_SIZE)\n",
        "\n",
        "# sample input\n",
        "sample_hidden = encoder.initialize_hidden_state()\n",
        "sample_hidden = encoder(example_input_batch, sample_hidden)\n",
        "# print ('Encoder output shape: (batch size, sequence length, units) {}'.format(sample_output.shape))\n",
        "print ('Encoder Hidden state shape: (batch size, units) {}'.format(sample_hidden.shape))"
      ],
      "execution_count": 21,
      "outputs": [
        {
          "output_type": "stream",
          "text": [
            "Encoder Hidden state shape: (batch size, units) (64, 1024)\n"
          ],
          "name": "stdout"
        }
      ]
    },
    {
      "cell_type": "code",
      "metadata": {
        "id": "yJ_B3mhW3jFk"
      },
      "source": [
        "class Decoder(tf.keras.Model):\n",
        "  def __init__(self, vocab_size, embedding_dim, dec_units, batch_sz):\n",
        "    super(Decoder, self).__init__()\n",
        "    self.batch_sz = batch_sz\n",
        "    self.dec_units = dec_units\n",
        "    self.embedding = tf.keras.layers.Embedding(vocab_size, embedding_dim)\n",
        "    self.gru = tf.keras.layers.GRU(self.dec_units,\n",
        "                                   return_sequences=True,\n",
        "                                   return_state=True,\n",
        "                                   recurrent_initializer='glorot_uniform')\n",
        "    self.gru = tf.keras.layers.GRU(self.dec_units,\n",
        "                                   return_sequences=True,\n",
        "                                   return_state=True,\n",
        "                                   recurrent_initializer='glorot_uniform')\n",
        "    self.gru = tf.keras.layers.GRU(self.dec_units,\n",
        "                                   return_sequences=True,\n",
        "                                   return_state=True,\n",
        "                                   recurrent_initializer='glorot_uniform')\n",
        "    self.fc = tf.keras.layers.Dense(vocab_size)\n",
        "\n",
        "    # used for attention\n",
        "    # self.attention = BahdanauAttention(self.dec_units)\n",
        "\n",
        "  def call(self, x, hidden):\n",
        "    # enc_output shape == (batch_size, max_length, hidden_size)\n",
        "\n",
        "    # x shape after passing through embedding == (batch_size, 1, embedding_dim)\n",
        "    x = self.embedding(x)\n",
        "\n",
        "    # x shape after concatenation == (batch_size, 1, embedding_dim + hidden_size)\n",
        "\n",
        "    # passing the concatenated vector to the GRU\n",
        "    output, state = self.gru(x, initial_state=hidden)\n",
        "\n",
        "    # output shape == (batch_size * 1, hidden_size)\n",
        "    output = tf.reshape(output, (-1, output.shape[2]))\n",
        "\n",
        "    # output shape == (batch_size, vocab)\n",
        "    x = self.fc(output)\n",
        "\n",
        "    return x, state"
      ],
      "execution_count": 22,
      "outputs": []
    },
    {
      "cell_type": "code",
      "metadata": {
        "id": "P5UY8wko3jFp"
      },
      "source": [
        "decoder = Decoder(vocab_tar_size, embedding_dim, units, BATCH_SIZE)\n",
        "\n",
        "decoder_sample_x, decoder_sample_h = decoder(tf.random.uniform((BATCH_SIZE, 1)),\n",
        "                                      sample_hidden)\n",
        "\n"
      ],
      "execution_count": 23,
      "outputs": []
    },
    {
      "cell_type": "code",
      "metadata": {
        "colab": {
          "base_uri": "https://localhost:8080/"
        },
        "id": "6y0HF-zMF_vp",
        "outputId": "b0983812-2f65-4614-bd9d-805ffe494e20"
      },
      "source": [
        "decoder_sample_h.shape"
      ],
      "execution_count": 24,
      "outputs": [
        {
          "output_type": "execute_result",
          "data": {
            "text/plain": [
              "TensorShape([64, 1024])"
            ]
          },
          "metadata": {
            "tags": []
          },
          "execution_count": 24
        }
      ]
    },
    {
      "cell_type": "markdown",
      "metadata": {
        "id": "_ch_71VbIRfK"
      },
      "source": [
        "## Define the optimizer and the loss function"
      ]
    },
    {
      "cell_type": "code",
      "metadata": {
        "id": "WmTHr5iV3jFr"
      },
      "source": [
        "optimizer = tf.keras.optimizers.Adam()\n",
        "loss_object = tf.keras.losses.SparseCategoricalCrossentropy(\n",
        "    from_logits=True, reduction='none')\n",
        "\n",
        "def loss_function(real, pred):\n",
        "  mask = tf.math.logical_not(tf.math.equal(real, 0))\n",
        "  loss_ = loss_object(real, pred)\n",
        "\n",
        "  mask = tf.cast(mask, dtype=loss_.dtype)\n",
        "  loss_ *= mask\n",
        "\n",
        "  return tf.reduce_mean(loss_)"
      ],
      "execution_count": 25,
      "outputs": []
    },
    {
      "cell_type": "markdown",
      "metadata": {
        "id": "DMVWzzsfNl4e"
      },
      "source": [
        "## Checkpoints (Object-based saving)"
      ]
    },
    {
      "cell_type": "code",
      "metadata": {
        "id": "Zj8bXQTgNwrF"
      },
      "source": [
        "checkpoint_dir = './training_nmt_checkpoints'\n",
        "\n",
        "checkpoint_prefix = os.path.join(checkpoint_dir, \"ckpt\")\n",
        "\n",
        "checkpoint = tf.train.Checkpoint(optimizer=optimizer,\n",
        "                                 encoder=encoder,\n",
        "                                 decoder=decoder)"
      ],
      "execution_count": 26,
      "outputs": []
    },
    {
      "cell_type": "code",
      "metadata": {
        "id": "sC9ArXSsVfqn"
      },
      "source": [
        "@tf.function\n",
        "def train_step(inp, targ, enc_hidden):\n",
        "  loss = 0\n",
        "\n",
        "  with tf.GradientTape() as tape:\n",
        "    enc_hidden = encoder(inp, enc_hidden)\n",
        "\n",
        "    dec_hidden = enc_hidden\n",
        "\n",
        "    dec_input = tf.expand_dims([targ_lang.word_index['<start>']] * BATCH_SIZE, 1)\n",
        "\n",
        "    # Teacher forcing - feeding the target as the next input\n",
        "    for t in range(1, targ.shape[1]):\n",
        "      # passing enc_output to the decoder\n",
        "      predictions, dec_hidden = decoder(dec_input, dec_hidden)\n",
        "\n",
        "      loss += loss_function(targ[:, t], predictions)\n",
        "\n",
        "      # using teacher forcing\n",
        "      dec_input = tf.expand_dims(targ[:, t], 1)\n",
        "\n",
        "  batch_loss = (loss / int(targ.shape[1]))\n",
        "\n",
        "  variables = encoder.trainable_variables + decoder.trainable_variables\n",
        "\n",
        "  gradients = tape.gradient(loss, variables)\n",
        "\n",
        "  optimizer.apply_gradients(zip(gradients, variables))\n",
        "\n",
        "  return batch_loss"
      ],
      "execution_count": 27,
      "outputs": []
    },
    {
      "cell_type": "code",
      "metadata": {
        "colab": {
          "base_uri": "https://localhost:8080/",
          "height": 1000
        },
        "id": "ddefjBMa3jF0",
        "outputId": "0faafb93-af7b-4412-f689-d792be7e8aa0"
      },
      "source": [
        "EPOCHS = 50\n",
        "\n",
        "for epoch in range(EPOCHS):\n",
        "  start = time.time()\n",
        "\n",
        "  enc_hidden = encoder.initialize_hidden_state()\n",
        "  total_loss = 0\n",
        "\n",
        "  for (batch, (inp, targ)) in enumerate(dataset.take(steps_per_epoch)):\n",
        "    batch_loss = train_step(inp, targ, enc_hidden)\n",
        "    total_loss += batch_loss\n",
        "\n",
        "    if batch % 100 == 0:\n",
        "      print('Epoch {} Batch {} Loss {:.4f}'.format(epoch + 1,\n",
        "                                                   batch,\n",
        "                                                   batch_loss.numpy()))\n",
        "  # saving (checkpoint) the model every 2 epochs\n",
        "  if (epoch + 1) % 2 == 0:\n",
        "    checkpoint.save(file_prefix = checkpoint_prefix)\n",
        "\n",
        "  print('Epoch {} Loss {:.4f}'.format(epoch + 1,\n",
        "                                      total_loss / steps_per_epoch))\n",
        "  print('Time taken for 1 epoch {} sec\\n'.format(time.time() - start))"
      ],
      "execution_count": 28,
      "outputs": [
        {
          "output_type": "stream",
          "text": [
            "Epoch 1 Batch 0 Loss 4.6891\n",
            "Epoch 1 Batch 100 Loss 2.0631\n",
            "Epoch 1 Batch 200 Loss 1.7900\n",
            "Epoch 1 Batch 300 Loss 1.6494\n",
            "Epoch 1 Batch 400 Loss 1.5525\n",
            "Epoch 1 Batch 500 Loss 1.3772\n",
            "Epoch 1 Batch 600 Loss 1.3076\n",
            "Epoch 1 Batch 700 Loss 1.3146\n",
            "Epoch 1 Batch 800 Loss 1.1055\n",
            "Epoch 1 Batch 900 Loss 1.1275\n",
            "Epoch 1 Batch 1000 Loss 1.0695\n",
            "Epoch 1 Batch 1100 Loss 1.1259\n",
            "Epoch 1 Batch 1200 Loss 0.9364\n",
            "Epoch 1 Loss 1.4230\n",
            "Time taken for 1 epoch 122.8886125087738 sec\n",
            "\n",
            "Epoch 2 Batch 0 Loss 0.7841\n",
            "Epoch 2 Batch 100 Loss 0.7551\n",
            "Epoch 2 Batch 200 Loss 0.8355\n",
            "Epoch 2 Batch 300 Loss 0.6987\n",
            "Epoch 2 Batch 400 Loss 0.8132\n",
            "Epoch 2 Batch 500 Loss 0.7885\n",
            "Epoch 2 Batch 600 Loss 0.6932\n",
            "Epoch 2 Batch 700 Loss 0.5561\n",
            "Epoch 2 Batch 800 Loss 0.5583\n",
            "Epoch 2 Batch 900 Loss 0.5786\n",
            "Epoch 2 Batch 1000 Loss 0.6135\n",
            "Epoch 2 Batch 1100 Loss 0.5469\n",
            "Epoch 2 Batch 1200 Loss 0.5101\n",
            "Epoch 2 Loss 0.6817\n",
            "Time taken for 1 epoch 115.07517886161804 sec\n",
            "\n",
            "Epoch 3 Batch 0 Loss 0.3877\n",
            "Epoch 3 Batch 100 Loss 0.3108\n",
            "Epoch 3 Batch 200 Loss 0.3931\n",
            "Epoch 3 Batch 300 Loss 0.3143\n",
            "Epoch 3 Batch 400 Loss 0.4321\n",
            "Epoch 3 Batch 500 Loss 0.3996\n",
            "Epoch 3 Batch 600 Loss 0.3532\n",
            "Epoch 3 Batch 700 Loss 0.3524\n",
            "Epoch 3 Batch 800 Loss 0.3649\n",
            "Epoch 3 Batch 900 Loss 0.3390\n",
            "Epoch 3 Batch 1000 Loss 0.3053\n",
            "Epoch 3 Batch 1100 Loss 0.3399\n",
            "Epoch 3 Batch 1200 Loss 0.3397\n",
            "Epoch 3 Loss 0.3598\n",
            "Time taken for 1 epoch 116.97465252876282 sec\n",
            "\n",
            "Epoch 4 Batch 0 Loss 0.1593\n",
            "Epoch 4 Batch 100 Loss 0.1805\n",
            "Epoch 4 Batch 200 Loss 0.1895\n",
            "Epoch 4 Batch 300 Loss 0.1741\n",
            "Epoch 4 Batch 400 Loss 0.1853\n",
            "Epoch 4 Batch 500 Loss 0.2333\n",
            "Epoch 4 Batch 600 Loss 0.2021\n",
            "Epoch 4 Batch 700 Loss 0.2362\n",
            "Epoch 4 Batch 800 Loss 0.1724\n",
            "Epoch 4 Batch 900 Loss 0.2063\n",
            "Epoch 4 Batch 1000 Loss 0.1717\n",
            "Epoch 4 Batch 1100 Loss 0.2128\n",
            "Epoch 4 Batch 1200 Loss 0.2193\n",
            "Epoch 4 Loss 0.2142\n",
            "Time taken for 1 epoch 117.4728991985321 sec\n",
            "\n",
            "Epoch 5 Batch 0 Loss 0.1648\n",
            "Epoch 5 Batch 100 Loss 0.1343\n",
            "Epoch 5 Batch 200 Loss 0.1112\n",
            "Epoch 5 Batch 300 Loss 0.1587\n",
            "Epoch 5 Batch 400 Loss 0.1242\n",
            "Epoch 5 Batch 500 Loss 0.1487\n",
            "Epoch 5 Batch 600 Loss 0.1455\n",
            "Epoch 5 Batch 700 Loss 0.1583\n",
            "Epoch 5 Batch 800 Loss 0.1222\n",
            "Epoch 5 Batch 900 Loss 0.1661\n",
            "Epoch 5 Batch 1000 Loss 0.1908\n",
            "Epoch 5 Batch 1100 Loss 0.1465\n",
            "Epoch 5 Batch 1200 Loss 0.1554\n",
            "Epoch 5 Loss 0.1471\n",
            "Time taken for 1 epoch 117.2173261642456 sec\n",
            "\n",
            "Epoch 6 Batch 0 Loss 0.1001\n",
            "Epoch 6 Batch 100 Loss 0.1054\n",
            "Epoch 6 Batch 200 Loss 0.1147\n",
            "Epoch 6 Batch 300 Loss 0.0816\n",
            "Epoch 6 Batch 400 Loss 0.0994\n",
            "Epoch 6 Batch 500 Loss 0.1166\n",
            "Epoch 6 Batch 600 Loss 0.1182\n",
            "Epoch 6 Batch 700 Loss 0.0742\n",
            "Epoch 6 Batch 800 Loss 0.1184\n",
            "Epoch 6 Batch 900 Loss 0.1135\n",
            "Epoch 6 Batch 1000 Loss 0.1289\n",
            "Epoch 6 Batch 1100 Loss 0.1458\n",
            "Epoch 6 Batch 1200 Loss 0.1366\n",
            "Epoch 6 Loss 0.1153\n",
            "Time taken for 1 epoch 117.3772623538971 sec\n",
            "\n",
            "Epoch 7 Batch 0 Loss 0.0809\n",
            "Epoch 7 Batch 100 Loss 0.0406\n",
            "Epoch 7 Batch 200 Loss 0.0818\n",
            "Epoch 7 Batch 300 Loss 0.1149\n",
            "Epoch 7 Batch 400 Loss 0.1023\n",
            "Epoch 7 Batch 500 Loss 0.0654\n",
            "Epoch 7 Batch 600 Loss 0.0847\n",
            "Epoch 7 Batch 700 Loss 0.0960\n",
            "Epoch 7 Batch 800 Loss 0.1158\n",
            "Epoch 7 Batch 900 Loss 0.0916\n",
            "Epoch 7 Batch 1000 Loss 0.0713\n",
            "Epoch 7 Batch 1100 Loss 0.1388\n",
            "Epoch 7 Batch 1200 Loss 0.1648\n",
            "Epoch 7 Loss 0.0993\n",
            "Time taken for 1 epoch 117.33111906051636 sec\n",
            "\n",
            "Epoch 8 Batch 0 Loss 0.0696\n",
            "Epoch 8 Batch 100 Loss 0.0696\n",
            "Epoch 8 Batch 200 Loss 0.0743\n",
            "Epoch 8 Batch 300 Loss 0.0810\n",
            "Epoch 8 Batch 400 Loss 0.0509\n",
            "Epoch 8 Batch 500 Loss 0.0903\n",
            "Epoch 8 Batch 600 Loss 0.0994\n",
            "Epoch 8 Batch 700 Loss 0.1078\n",
            "Epoch 8 Batch 800 Loss 0.0650\n",
            "Epoch 8 Batch 900 Loss 0.1126\n",
            "Epoch 8 Batch 1000 Loss 0.1324\n",
            "Epoch 8 Batch 1100 Loss 0.0842\n",
            "Epoch 8 Batch 1200 Loss 0.1185\n",
            "Epoch 8 Loss 0.0902\n",
            "Time taken for 1 epoch 117.56296110153198 sec\n",
            "\n",
            "Epoch 9 Batch 0 Loss 0.0477\n",
            "Epoch 9 Batch 100 Loss 0.0540\n",
            "Epoch 9 Batch 200 Loss 0.0885\n",
            "Epoch 9 Batch 300 Loss 0.1053\n",
            "Epoch 9 Batch 400 Loss 0.0982\n",
            "Epoch 9 Batch 500 Loss 0.1055\n",
            "Epoch 9 Batch 600 Loss 0.0850\n",
            "Epoch 9 Batch 700 Loss 0.0570\n",
            "Epoch 9 Batch 800 Loss 0.0845\n",
            "Epoch 9 Batch 900 Loss 0.0831\n",
            "Epoch 9 Batch 1000 Loss 0.1082\n",
            "Epoch 9 Batch 1100 Loss 0.1068\n",
            "Epoch 9 Batch 1200 Loss 0.1101\n",
            "Epoch 9 Loss 0.0841\n",
            "Time taken for 1 epoch 116.65711712837219 sec\n",
            "\n",
            "Epoch 10 Batch 0 Loss 0.0991\n",
            "Epoch 10 Batch 100 Loss 0.0537\n",
            "Epoch 10 Batch 200 Loss 0.1446\n",
            "Epoch 10 Batch 300 Loss 0.0811\n",
            "Epoch 10 Batch 400 Loss 0.0699\n",
            "Epoch 10 Batch 500 Loss 0.0858\n",
            "Epoch 10 Batch 600 Loss 0.0598\n",
            "Epoch 10 Batch 700 Loss 0.0478\n",
            "Epoch 10 Batch 800 Loss 0.1127\n",
            "Epoch 10 Batch 900 Loss 0.1027\n",
            "Epoch 10 Batch 1000 Loss 0.1062\n",
            "Epoch 10 Batch 1100 Loss 0.0777\n",
            "Epoch 10 Batch 1200 Loss 0.0838\n",
            "Epoch 10 Loss 0.0800\n",
            "Time taken for 1 epoch 117.12713360786438 sec\n",
            "\n",
            "Epoch 11 Batch 0 Loss 0.0497\n",
            "Epoch 11 Batch 100 Loss 0.0552\n",
            "Epoch 11 Batch 200 Loss 0.0630\n",
            "Epoch 11 Batch 300 Loss 0.1141\n",
            "Epoch 11 Batch 400 Loss 0.1015\n",
            "Epoch 11 Batch 500 Loss 0.0840\n",
            "Epoch 11 Batch 600 Loss 0.0740\n",
            "Epoch 11 Batch 700 Loss 0.0796\n",
            "Epoch 11 Batch 800 Loss 0.0719\n",
            "Epoch 11 Batch 900 Loss 0.1059\n",
            "Epoch 11 Batch 1000 Loss 0.0903\n",
            "Epoch 11 Batch 1100 Loss 0.0846\n",
            "Epoch 11 Batch 1200 Loss 0.0535\n",
            "Epoch 11 Loss 0.0774\n",
            "Time taken for 1 epoch 116.0399489402771 sec\n",
            "\n",
            "Epoch 12 Batch 0 Loss 0.0446\n",
            "Epoch 12 Batch 100 Loss 0.0714\n",
            "Epoch 12 Batch 200 Loss 0.0763\n",
            "Epoch 12 Batch 300 Loss 0.0489\n",
            "Epoch 12 Batch 400 Loss 0.0412\n",
            "Epoch 12 Batch 500 Loss 0.0721\n",
            "Epoch 12 Batch 600 Loss 0.0700\n",
            "Epoch 12 Batch 700 Loss 0.0907\n",
            "Epoch 12 Batch 800 Loss 0.0689\n",
            "Epoch 12 Batch 900 Loss 0.0884\n",
            "Epoch 12 Batch 1000 Loss 0.0359\n",
            "Epoch 12 Batch 1100 Loss 0.0887\n",
            "Epoch 12 Batch 1200 Loss 0.0835\n",
            "Epoch 12 Loss 0.0737\n",
            "Time taken for 1 epoch 116.90917372703552 sec\n",
            "\n",
            "Epoch 13 Batch 0 Loss 0.0522\n",
            "Epoch 13 Batch 100 Loss 0.0382\n",
            "Epoch 13 Batch 200 Loss 0.0638\n",
            "Epoch 13 Batch 300 Loss 0.0813\n",
            "Epoch 13 Batch 400 Loss 0.0764\n",
            "Epoch 13 Batch 500 Loss 0.0823\n",
            "Epoch 13 Batch 600 Loss 0.0828\n",
            "Epoch 13 Batch 700 Loss 0.0588\n",
            "Epoch 13 Batch 800 Loss 0.0842\n",
            "Epoch 13 Batch 900 Loss 0.0733\n",
            "Epoch 13 Batch 1000 Loss 0.1121\n",
            "Epoch 13 Batch 1100 Loss 0.0666\n",
            "Epoch 13 Batch 1200 Loss 0.0617\n",
            "Epoch 13 Loss 0.0721\n",
            "Time taken for 1 epoch 116.1002848148346 sec\n",
            "\n",
            "Epoch 14 Batch 0 Loss 0.0854\n",
            "Epoch 14 Batch 100 Loss 0.0440\n",
            "Epoch 14 Batch 200 Loss 0.0985\n",
            "Epoch 14 Batch 300 Loss 0.0504\n",
            "Epoch 14 Batch 400 Loss 0.0830\n",
            "Epoch 14 Batch 500 Loss 0.0479\n",
            "Epoch 14 Batch 600 Loss 0.0730\n",
            "Epoch 14 Batch 700 Loss 0.0467\n",
            "Epoch 14 Batch 800 Loss 0.0795\n",
            "Epoch 14 Batch 900 Loss 0.0579\n",
            "Epoch 14 Batch 1000 Loss 0.0815\n",
            "Epoch 14 Batch 1100 Loss 0.0738\n",
            "Epoch 14 Batch 1200 Loss 0.0988\n",
            "Epoch 14 Loss 0.0705\n",
            "Time taken for 1 epoch 116.65381813049316 sec\n",
            "\n",
            "Epoch 15 Batch 0 Loss 0.0517\n",
            "Epoch 15 Batch 100 Loss 0.0572\n",
            "Epoch 15 Batch 200 Loss 0.0606\n",
            "Epoch 15 Batch 300 Loss 0.0295\n",
            "Epoch 15 Batch 400 Loss 0.0429\n",
            "Epoch 15 Batch 500 Loss 0.0636\n",
            "Epoch 15 Batch 600 Loss 0.0597\n",
            "Epoch 15 Batch 700 Loss 0.0874\n",
            "Epoch 15 Batch 800 Loss 0.0655\n",
            "Epoch 15 Batch 900 Loss 0.0929\n",
            "Epoch 15 Batch 1000 Loss 0.0613\n",
            "Epoch 15 Batch 1100 Loss 0.0823\n",
            "Epoch 15 Batch 1200 Loss 0.0887\n",
            "Epoch 15 Loss 0.0689\n",
            "Time taken for 1 epoch 115.73156642913818 sec\n",
            "\n",
            "Epoch 16 Batch 0 Loss 0.0735\n",
            "Epoch 16 Batch 100 Loss 0.0658\n",
            "Epoch 16 Batch 200 Loss 0.0577\n",
            "Epoch 16 Batch 300 Loss 0.0389\n",
            "Epoch 16 Batch 400 Loss 0.0541\n",
            "Epoch 16 Batch 500 Loss 0.0811\n",
            "Epoch 16 Batch 600 Loss 0.0601\n",
            "Epoch 16 Batch 700 Loss 0.0615\n",
            "Epoch 16 Batch 800 Loss 0.0665\n",
            "Epoch 16 Batch 900 Loss 0.1151\n",
            "Epoch 16 Batch 1000 Loss 0.0671\n",
            "Epoch 16 Batch 1100 Loss 0.0708\n",
            "Epoch 16 Batch 1200 Loss 0.0669\n",
            "Epoch 16 Loss 0.0673\n",
            "Time taken for 1 epoch 117.13169574737549 sec\n",
            "\n",
            "Epoch 17 Batch 0 Loss 0.0629\n",
            "Epoch 17 Batch 100 Loss 0.0396\n",
            "Epoch 17 Batch 200 Loss 0.0774\n",
            "Epoch 17 Batch 300 Loss 0.0499\n",
            "Epoch 17 Batch 400 Loss 0.1150\n",
            "Epoch 17 Batch 500 Loss 0.0408\n",
            "Epoch 17 Batch 600 Loss 0.0728\n",
            "Epoch 17 Batch 700 Loss 0.0796\n",
            "Epoch 17 Batch 800 Loss 0.0694\n",
            "Epoch 17 Batch 900 Loss 0.0490\n",
            "Epoch 17 Batch 1000 Loss 0.0945\n",
            "Epoch 17 Batch 1100 Loss 0.0576\n",
            "Epoch 17 Batch 1200 Loss 0.0477\n",
            "Epoch 17 Loss 0.0659\n",
            "Time taken for 1 epoch 116.66859889030457 sec\n",
            "\n",
            "Epoch 18 Batch 0 Loss 0.0500\n",
            "Epoch 18 Batch 100 Loss 0.0483\n",
            "Epoch 18 Batch 200 Loss 0.0371\n",
            "Epoch 18 Batch 300 Loss 0.0526\n",
            "Epoch 18 Batch 400 Loss 0.0738\n",
            "Epoch 18 Batch 500 Loss 0.0543\n",
            "Epoch 18 Batch 600 Loss 0.0678\n",
            "Epoch 18 Batch 700 Loss 0.0576\n",
            "Epoch 18 Batch 800 Loss 0.0458\n",
            "Epoch 18 Batch 900 Loss 0.0869\n",
            "Epoch 18 Batch 1000 Loss 0.0853\n",
            "Epoch 18 Batch 1100 Loss 0.0702\n",
            "Epoch 18 Batch 1200 Loss 0.0424\n",
            "Epoch 18 Loss 0.0645\n",
            "Time taken for 1 epoch 118.30654311180115 sec\n",
            "\n",
            "Epoch 19 Batch 0 Loss 0.0365\n",
            "Epoch 19 Batch 100 Loss 0.0514\n",
            "Epoch 19 Batch 200 Loss 0.0261\n",
            "Epoch 19 Batch 300 Loss 0.0501\n",
            "Epoch 19 Batch 400 Loss 0.0648\n",
            "Epoch 19 Batch 500 Loss 0.0531\n",
            "Epoch 19 Batch 600 Loss 0.0422\n",
            "Epoch 19 Batch 700 Loss 0.0582\n",
            "Epoch 19 Batch 800 Loss 0.0613\n",
            "Epoch 19 Batch 900 Loss 0.0608\n",
            "Epoch 19 Batch 1000 Loss 0.0686\n",
            "Epoch 19 Batch 1100 Loss 0.0868\n",
            "Epoch 19 Batch 1200 Loss 0.0588\n",
            "Epoch 19 Loss 0.0632\n",
            "Time taken for 1 epoch 116.6803650856018 sec\n",
            "\n",
            "Epoch 20 Batch 0 Loss 0.0311\n",
            "Epoch 20 Batch 100 Loss 0.0523\n",
            "Epoch 20 Batch 200 Loss 0.0887\n"
          ],
          "name": "stdout"
        },
        {
          "output_type": "error",
          "ename": "KeyboardInterrupt",
          "evalue": "ignored",
          "traceback": [
            "\u001b[0;31m---------------------------------------------------------------------------\u001b[0m",
            "\u001b[0;31mKeyboardInterrupt\u001b[0m                         Traceback (most recent call last)",
            "\u001b[0;32m<ipython-input-28-f884ceb8552b>\u001b[0m in \u001b[0;36m<module>\u001b[0;34m()\u001b[0m\n\u001b[1;32m      8\u001b[0m \u001b[0;34m\u001b[0m\u001b[0m\n\u001b[1;32m      9\u001b[0m   \u001b[0;32mfor\u001b[0m \u001b[0;34m(\u001b[0m\u001b[0mbatch\u001b[0m\u001b[0;34m,\u001b[0m \u001b[0;34m(\u001b[0m\u001b[0minp\u001b[0m\u001b[0;34m,\u001b[0m \u001b[0mtarg\u001b[0m\u001b[0;34m)\u001b[0m\u001b[0;34m)\u001b[0m \u001b[0;32min\u001b[0m \u001b[0menumerate\u001b[0m\u001b[0;34m(\u001b[0m\u001b[0mdataset\u001b[0m\u001b[0;34m.\u001b[0m\u001b[0mtake\u001b[0m\u001b[0;34m(\u001b[0m\u001b[0msteps_per_epoch\u001b[0m\u001b[0;34m)\u001b[0m\u001b[0;34m)\u001b[0m\u001b[0;34m:\u001b[0m\u001b[0;34m\u001b[0m\u001b[0;34m\u001b[0m\u001b[0m\n\u001b[0;32m---> 10\u001b[0;31m     \u001b[0mbatch_loss\u001b[0m \u001b[0;34m=\u001b[0m \u001b[0mtrain_step\u001b[0m\u001b[0;34m(\u001b[0m\u001b[0minp\u001b[0m\u001b[0;34m,\u001b[0m \u001b[0mtarg\u001b[0m\u001b[0;34m,\u001b[0m \u001b[0menc_hidden\u001b[0m\u001b[0;34m)\u001b[0m\u001b[0;34m\u001b[0m\u001b[0;34m\u001b[0m\u001b[0m\n\u001b[0m\u001b[1;32m     11\u001b[0m     \u001b[0mtotal_loss\u001b[0m \u001b[0;34m+=\u001b[0m \u001b[0mbatch_loss\u001b[0m\u001b[0;34m\u001b[0m\u001b[0;34m\u001b[0m\u001b[0m\n\u001b[1;32m     12\u001b[0m \u001b[0;34m\u001b[0m\u001b[0m\n",
            "\u001b[0;32m/usr/local/lib/python3.6/dist-packages/tensorflow/python/eager/def_function.py\u001b[0m in \u001b[0;36m__call__\u001b[0;34m(self, *args, **kwds)\u001b[0m\n\u001b[1;32m    826\u001b[0m     \u001b[0mtracing_count\u001b[0m \u001b[0;34m=\u001b[0m \u001b[0mself\u001b[0m\u001b[0;34m.\u001b[0m\u001b[0mexperimental_get_tracing_count\u001b[0m\u001b[0;34m(\u001b[0m\u001b[0;34m)\u001b[0m\u001b[0;34m\u001b[0m\u001b[0;34m\u001b[0m\u001b[0m\n\u001b[1;32m    827\u001b[0m     \u001b[0;32mwith\u001b[0m \u001b[0mtrace\u001b[0m\u001b[0;34m.\u001b[0m\u001b[0mTrace\u001b[0m\u001b[0;34m(\u001b[0m\u001b[0mself\u001b[0m\u001b[0;34m.\u001b[0m\u001b[0m_name\u001b[0m\u001b[0;34m)\u001b[0m \u001b[0;32mas\u001b[0m \u001b[0mtm\u001b[0m\u001b[0;34m:\u001b[0m\u001b[0;34m\u001b[0m\u001b[0;34m\u001b[0m\u001b[0m\n\u001b[0;32m--> 828\u001b[0;31m       \u001b[0mresult\u001b[0m \u001b[0;34m=\u001b[0m \u001b[0mself\u001b[0m\u001b[0;34m.\u001b[0m\u001b[0m_call\u001b[0m\u001b[0;34m(\u001b[0m\u001b[0;34m*\u001b[0m\u001b[0margs\u001b[0m\u001b[0;34m,\u001b[0m \u001b[0;34m**\u001b[0m\u001b[0mkwds\u001b[0m\u001b[0;34m)\u001b[0m\u001b[0;34m\u001b[0m\u001b[0;34m\u001b[0m\u001b[0m\n\u001b[0m\u001b[1;32m    829\u001b[0m       \u001b[0mcompiler\u001b[0m \u001b[0;34m=\u001b[0m \u001b[0;34m\"xla\"\u001b[0m \u001b[0;32mif\u001b[0m \u001b[0mself\u001b[0m\u001b[0;34m.\u001b[0m\u001b[0m_experimental_compile\u001b[0m \u001b[0;32melse\u001b[0m \u001b[0;34m\"nonXla\"\u001b[0m\u001b[0;34m\u001b[0m\u001b[0;34m\u001b[0m\u001b[0m\n\u001b[1;32m    830\u001b[0m       \u001b[0mnew_tracing_count\u001b[0m \u001b[0;34m=\u001b[0m \u001b[0mself\u001b[0m\u001b[0;34m.\u001b[0m\u001b[0mexperimental_get_tracing_count\u001b[0m\u001b[0;34m(\u001b[0m\u001b[0;34m)\u001b[0m\u001b[0;34m\u001b[0m\u001b[0;34m\u001b[0m\u001b[0m\n",
            "\u001b[0;32m/usr/local/lib/python3.6/dist-packages/tensorflow/python/eager/def_function.py\u001b[0m in \u001b[0;36m_call\u001b[0;34m(self, *args, **kwds)\u001b[0m\n\u001b[1;32m    853\u001b[0m       \u001b[0;31m# In this case we have created variables on the first call, so we run the\u001b[0m\u001b[0;34m\u001b[0m\u001b[0;34m\u001b[0m\u001b[0;34m\u001b[0m\u001b[0m\n\u001b[1;32m    854\u001b[0m       \u001b[0;31m# defunned version which is guaranteed to never create variables.\u001b[0m\u001b[0;34m\u001b[0m\u001b[0;34m\u001b[0m\u001b[0;34m\u001b[0m\u001b[0m\n\u001b[0;32m--> 855\u001b[0;31m       \u001b[0;32mreturn\u001b[0m \u001b[0mself\u001b[0m\u001b[0;34m.\u001b[0m\u001b[0m_stateless_fn\u001b[0m\u001b[0;34m(\u001b[0m\u001b[0;34m*\u001b[0m\u001b[0margs\u001b[0m\u001b[0;34m,\u001b[0m \u001b[0;34m**\u001b[0m\u001b[0mkwds\u001b[0m\u001b[0;34m)\u001b[0m  \u001b[0;31m# pylint: disable=not-callable\u001b[0m\u001b[0;34m\u001b[0m\u001b[0;34m\u001b[0m\u001b[0m\n\u001b[0m\u001b[1;32m    856\u001b[0m     \u001b[0;32melif\u001b[0m \u001b[0mself\u001b[0m\u001b[0;34m.\u001b[0m\u001b[0m_stateful_fn\u001b[0m \u001b[0;32mis\u001b[0m \u001b[0;32mnot\u001b[0m \u001b[0;32mNone\u001b[0m\u001b[0;34m:\u001b[0m\u001b[0;34m\u001b[0m\u001b[0;34m\u001b[0m\u001b[0m\n\u001b[1;32m    857\u001b[0m       \u001b[0;31m# Release the lock early so that multiple threads can perform the call\u001b[0m\u001b[0;34m\u001b[0m\u001b[0;34m\u001b[0m\u001b[0;34m\u001b[0m\u001b[0m\n",
            "\u001b[0;32m/usr/local/lib/python3.6/dist-packages/tensorflow/python/eager/function.py\u001b[0m in \u001b[0;36m__call__\u001b[0;34m(self, *args, **kwargs)\u001b[0m\n\u001b[1;32m   2941\u001b[0m        filtered_flat_args) = self._maybe_define_function(args, kwargs)\n\u001b[1;32m   2942\u001b[0m     return graph_function._call_flat(\n\u001b[0;32m-> 2943\u001b[0;31m         filtered_flat_args, captured_inputs=graph_function.captured_inputs)  # pylint: disable=protected-access\n\u001b[0m\u001b[1;32m   2944\u001b[0m \u001b[0;34m\u001b[0m\u001b[0m\n\u001b[1;32m   2945\u001b[0m   \u001b[0;34m@\u001b[0m\u001b[0mproperty\u001b[0m\u001b[0;34m\u001b[0m\u001b[0;34m\u001b[0m\u001b[0m\n",
            "\u001b[0;32m/usr/local/lib/python3.6/dist-packages/tensorflow/python/eager/function.py\u001b[0m in \u001b[0;36m_call_flat\u001b[0;34m(self, args, captured_inputs, cancellation_manager)\u001b[0m\n\u001b[1;32m   1917\u001b[0m       \u001b[0;31m# No tape is watching; skip to running the function.\u001b[0m\u001b[0;34m\u001b[0m\u001b[0;34m\u001b[0m\u001b[0;34m\u001b[0m\u001b[0m\n\u001b[1;32m   1918\u001b[0m       return self._build_call_outputs(self._inference_function.call(\n\u001b[0;32m-> 1919\u001b[0;31m           ctx, args, cancellation_manager=cancellation_manager))\n\u001b[0m\u001b[1;32m   1920\u001b[0m     forward_backward = self._select_forward_and_backward_functions(\n\u001b[1;32m   1921\u001b[0m         \u001b[0margs\u001b[0m\u001b[0;34m,\u001b[0m\u001b[0;34m\u001b[0m\u001b[0;34m\u001b[0m\u001b[0m\n",
            "\u001b[0;32m/usr/local/lib/python3.6/dist-packages/tensorflow/python/eager/function.py\u001b[0m in \u001b[0;36mcall\u001b[0;34m(self, ctx, args, cancellation_manager)\u001b[0m\n\u001b[1;32m    558\u001b[0m               \u001b[0minputs\u001b[0m\u001b[0;34m=\u001b[0m\u001b[0margs\u001b[0m\u001b[0;34m,\u001b[0m\u001b[0;34m\u001b[0m\u001b[0;34m\u001b[0m\u001b[0m\n\u001b[1;32m    559\u001b[0m               \u001b[0mattrs\u001b[0m\u001b[0;34m=\u001b[0m\u001b[0mattrs\u001b[0m\u001b[0;34m,\u001b[0m\u001b[0;34m\u001b[0m\u001b[0;34m\u001b[0m\u001b[0m\n\u001b[0;32m--> 560\u001b[0;31m               ctx=ctx)\n\u001b[0m\u001b[1;32m    561\u001b[0m         \u001b[0;32melse\u001b[0m\u001b[0;34m:\u001b[0m\u001b[0;34m\u001b[0m\u001b[0;34m\u001b[0m\u001b[0m\n\u001b[1;32m    562\u001b[0m           outputs = execute.execute_with_cancellation(\n",
            "\u001b[0;32m/usr/local/lib/python3.6/dist-packages/tensorflow/python/eager/execute.py\u001b[0m in \u001b[0;36mquick_execute\u001b[0;34m(op_name, num_outputs, inputs, attrs, ctx, name)\u001b[0m\n\u001b[1;32m     58\u001b[0m     \u001b[0mctx\u001b[0m\u001b[0;34m.\u001b[0m\u001b[0mensure_initialized\u001b[0m\u001b[0;34m(\u001b[0m\u001b[0;34m)\u001b[0m\u001b[0;34m\u001b[0m\u001b[0;34m\u001b[0m\u001b[0m\n\u001b[1;32m     59\u001b[0m     tensors = pywrap_tfe.TFE_Py_Execute(ctx._handle, device_name, op_name,\n\u001b[0;32m---> 60\u001b[0;31m                                         inputs, attrs, num_outputs)\n\u001b[0m\u001b[1;32m     61\u001b[0m   \u001b[0;32mexcept\u001b[0m \u001b[0mcore\u001b[0m\u001b[0;34m.\u001b[0m\u001b[0m_NotOkStatusException\u001b[0m \u001b[0;32mas\u001b[0m \u001b[0me\u001b[0m\u001b[0;34m:\u001b[0m\u001b[0;34m\u001b[0m\u001b[0;34m\u001b[0m\u001b[0m\n\u001b[1;32m     62\u001b[0m     \u001b[0;32mif\u001b[0m \u001b[0mname\u001b[0m \u001b[0;32mis\u001b[0m \u001b[0;32mnot\u001b[0m \u001b[0;32mNone\u001b[0m\u001b[0;34m:\u001b[0m\u001b[0;34m\u001b[0m\u001b[0;34m\u001b[0m\u001b[0m\n",
            "\u001b[0;31mKeyboardInterrupt\u001b[0m: "
          ]
        }
      ]
    },
    {
      "cell_type": "markdown",
      "metadata": {
        "id": "mU3Ce8M6I3rz"
      },
      "source": [
        "## Translate\n",
        "\n",
        "* The evaluate function is similar to the training loop, except we don't use *teacher forcing* here. The input to the decoder at each time step is its previous predictions along with the hidden state and the encoder output.\n",
        "* Stop predicting when the model predicts the *end token*.\n",
        "* And store the *attention weights for every time step*.\n",
        "\n",
        "Note: The encoder output is calculated only once for one input."
      ]
    },
    {
      "cell_type": "code",
      "metadata": {
        "id": "EbQpyYs13jF_"
      },
      "source": [
        "def evaluate(sentence):\n",
        "  attention_plot = np.zeros((max_length_targ, max_length_inp))\n",
        "\n",
        "  sentence = preprocess_sentence(sentence)\n",
        "\n",
        "  inputs = [inp_lang.word_index[i] for i in sentence.split(' ')]\n",
        "  inputs = tf.keras.preprocessing.sequence.pad_sequences([inputs],\n",
        "                                                         maxlen=max_length_inp,\n",
        "                                                         padding='post')\n",
        "  inputs = tf.convert_to_tensor(inputs)\n",
        "\n",
        "  result = ''\n",
        "\n",
        "  hidden = [tf.zeros((1, units))]\n",
        "  enc_hidden = encoder(inputs, hidden)\n",
        "\n",
        "  dec_hidden = enc_hidden\n",
        "  dec_input = tf.expand_dims([targ_lang.word_index['<start>']], 0)\n",
        "\n",
        "  for t in range(max_length_targ):\n",
        "    predictions, dec_hidden = decoder(dec_input, dec_hidden)\n",
        "\n",
        "    # storing the attention weights to plot later on\n",
        "    predicted_id = tf.argmax(predictions[0]).numpy()\n",
        "    result += targ_lang.index_word[predicted_id] + ' '\n",
        "\n",
        "    if targ_lang.index_word[predicted_id] == '<end>':\n",
        "      return result, sentence\n",
        "\n",
        "    # the predicted ID is fed back into the model\n",
        "    dec_input = tf.expand_dims([predicted_id], 0)\n",
        "\n",
        "  return result, sentence"
      ],
      "execution_count": 29,
      "outputs": []
    },
    {
      "cell_type": "code",
      "metadata": {
        "id": "sl9zUHzg3jGI"
      },
      "source": [
        "def translate(sentence):\n",
        "  result, sentence = evaluate(sentence)\n",
        "\n",
        "  print('Input: %s' % (sentence))\n",
        "  print('Predicted translation: {}'.format(result))"
      ],
      "execution_count": 30,
      "outputs": []
    },
    {
      "cell_type": "markdown",
      "metadata": {
        "id": "n250XbnjOaqP"
      },
      "source": [
        "## Restore the latest checkpoint and test"
      ]
    },
    {
      "cell_type": "code",
      "metadata": {
        "colab": {
          "base_uri": "https://localhost:8080/"
        },
        "id": "UJpT9D5_OgP6",
        "outputId": "d6b5b664-efc8-4816-80e2-b5ea47bc1e3a"
      },
      "source": [
        "# restoring the latest checkpoint in checkpoint_dir\n",
        "checkpoint.restore(tf.train.latest_checkpoint(checkpoint_dir))"
      ],
      "execution_count": 31,
      "outputs": [
        {
          "output_type": "execute_result",
          "data": {
            "text/plain": [
              "<tensorflow.python.training.tracking.util.CheckpointLoadStatus at 0x7fbcfda27358>"
            ]
          },
          "metadata": {
            "tags": []
          },
          "execution_count": 31
        }
      ]
    },
    {
      "cell_type": "code",
      "metadata": {
        "colab": {
          "base_uri": "https://localhost:8080/"
        },
        "id": "WrAM0FDomq3E",
        "outputId": "e74cae0b-9c42-47f1-b45d-4d858a79cfe1"
      },
      "source": [
        "translate('Здесь хорошо.')"
      ],
      "execution_count": 32,
      "outputs": [
        {
          "output_type": "stream",
          "text": [
            "Input: <start> здесь хорошо . <end>\n",
            "Predicted translation: it's ok here . <end> \n"
          ],
          "name": "stdout"
        }
      ]
    },
    {
      "cell_type": "code",
      "metadata": {
        "colab": {
          "base_uri": "https://localhost:8080/"
        },
        "id": "5bhFfwcIMX5i",
        "outputId": "abf41b41-fbba-4b20-b0f8-3fe9e2916de4"
      },
      "source": [
        "translate('Я не смогу поехать.')"
      ],
      "execution_count": 33,
      "outputs": [
        {
          "output_type": "stream",
          "text": [
            "Input: <start> я не смогу поехать . <end>\n",
            "Predicted translation: i can't go . <end> \n"
          ],
          "name": "stdout"
        }
      ]
    },
    {
      "cell_type": "code",
      "metadata": {
        "colab": {
          "base_uri": "https://localhost:8080/"
        },
        "id": "zSx2iM36EZQZ",
        "outputId": "e58769e7-4e77-417f-dc53-3f8c7fae4f45"
      },
      "source": [
        "translate(u'Вы еще дома?')"
      ],
      "execution_count": 34,
      "outputs": [
        {
          "output_type": "stream",
          "text": [
            "Input: <start> вы еще дома ? <end>\n",
            "Predicted translation: are you still at home ? <end> \n"
          ],
          "name": "stdout"
        }
      ]
    },
    {
      "cell_type": "code",
      "metadata": {
        "colab": {
          "base_uri": "https://localhost:8080/"
        },
        "id": "A3LLCx3ZE0Ls",
        "outputId": "a7a62d1d-529e-4b67-cd65-d9668f586365"
      },
      "source": [
        "translate(u'Вы все еще дома?')"
      ],
      "execution_count": 35,
      "outputs": [
        {
          "output_type": "stream",
          "text": [
            "Input: <start> вы все еще дома ? <end>\n",
            "Predicted translation: are you still at home ? <end> \n"
          ],
          "name": "stdout"
        }
      ]
    },
    {
      "cell_type": "code",
      "metadata": {
        "colab": {
          "base_uri": "https://localhost:8080/"
        },
        "id": "DUQVLVqUE1YW",
        "outputId": "7019ade6-0e1a-41e6-9e3d-3366dd3cc659"
      },
      "source": [
        "translate(u'Попробуй сделать это.')"
      ],
      "execution_count": 36,
      "outputs": [
        {
          "output_type": "stream",
          "text": [
            "Input: <start> попробуй сделать это . <end>\n",
            "Predicted translation: try doing that . <end> \n"
          ],
          "name": "stdout"
        }
      ]
    },
    {
      "cell_type": "code",
      "metadata": {
        "colab": {
          "base_uri": "https://localhost:8080/"
        },
        "id": "f09_hUFx9EJh",
        "outputId": "97fc8c81-29f8-492a-b0b8-a2c60aee4ba1"
      },
      "source": [
        "translate(u'Я люблю, когда идет снег.')"
      ],
      "execution_count": 37,
      "outputs": [
        {
          "output_type": "stream",
          "text": [
            "Input: <start> я люблю , когда идет снег . <end>\n",
            "Predicted translation: i think how old guys . <end> \n"
          ],
          "name": "stdout"
        }
      ]
    },
    {
      "cell_type": "code",
      "metadata": {
        "colab": {
          "base_uri": "https://localhost:8080/"
        },
        "id": "e7c5p8rmkHQG",
        "outputId": "cb32ff74-62da-4d34-ba13-7769eae306f3"
      },
      "source": [
        "translate(u'Я никогда такого не делаю.')"
      ],
      "execution_count": 38,
      "outputs": [
        {
          "output_type": "stream",
          "text": [
            "Input: <start> я никогда такого не делаю . <end>\n",
            "Predicted translation: i never do that . <end> \n"
          ],
          "name": "stdout"
        }
      ]
    }
  ]
}